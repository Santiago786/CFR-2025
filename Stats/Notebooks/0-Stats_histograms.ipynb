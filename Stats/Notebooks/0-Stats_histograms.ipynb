{
 "cells": [
  {
   "cell_type": "markdown",
   "id": "9020e3db",
   "metadata": {},
   "source": [
    "# 0 - Introduction to Statistics: Mean, Median, Mode, and Histograms\n",
    "These notebooks will supplement our in-class slides and we will work through some of the examples together in class"
   ]
  },
  {
   "cell_type": "markdown",
   "id": "193ffa10",
   "metadata": {},
   "source": [
    "## 1. Measures of Central Tendency (Mean, Median, Mode)"
   ]
  },
  {
   "cell_type": "markdown",
   "id": "474ee184",
   "metadata": {},
   "source": [
    "First, let's import the libraries we'll need:"
   ]
  },
  {
   "cell_type": "code",
   "execution_count": 1,
   "id": "2535e266",
   "metadata": {},
   "outputs": [],
   "source": [
    "import numpy as np\n",
    "import matplotlib.pyplot as plt\n",
    "from scipy import stats\n",
    "from scipy.stats import norm, uniform, binom, poisson, expon, t, chi2\n",
    "import statistics"
   ]
  },
  {
   "cell_type": "markdown",
   "id": "a3b2e0ac",
   "metadata": {},
   "source": [
    "Let's create a simple dataset to work through examples of some of the things we'll cover in class"
   ]
  },
  {
   "cell_type": "code",
   "execution_count": 2,
   "id": "508fc538",
   "metadata": {},
   "outputs": [
    {
     "name": "stdout",
     "output_type": "stream",
     "text": [
      "Our dataset: [10, 12, 15, 12, 18, 20, 12, 25, 30, 12, 35, 40, 12, 50]\n"
     ]
    }
   ],
   "source": [
    "data = [10, 12, 15, 12, 18, 20, 12, 25, 30, 12, 35, 40, 12, 50]\n",
    "print(\"Our dataset:\", data)"
   ]
  },
  {
   "cell_type": "markdown",
   "id": "966b9ee6",
   "metadata": {},
   "source": [
    "### Arithmetic Mean\n",
    "Arithmetic Mean: The typical meaning of \"average\". Add all numbers and divide by how many numbers there are:\n",
    "\n",
    "\n",
    "# $\\bar{x}=\\dfrac{\\sum_i^N x_i}{N}$"
   ]
  },
  {
   "cell_type": "code",
   "execution_count": 3,
   "id": "bafa4baf",
   "metadata": {},
   "outputs": [
    {
     "name": "stdout",
     "output_type": "stream",
     "text": [
      "Arithmetic Mean: 21.642857142857142\n"
     ]
    }
   ],
   "source": [
    "#We can find the arithmetic mean manually by looping over the elements in our dataset\n",
    "\n",
    "#declare a variable \"summed_values\" that is initialized to zero\n",
    "summed_values=0.0\n",
    "for i in range (0, len(data)):\n",
    "    #Add each value in our dataset to summed_values as we loop through the data array\n",
    "    summed_values = summed_values + data[i]\n",
    "    #You can also do the following for shorthand\n",
    "    #summed_values += data[i]\n",
    "\n",
    "#divide summed_values by the total number of values in data\n",
    "total_number_of_values=len(data)\n",
    "average_value = summed_values/total_number_of_values\n",
    "print(\"Arithmetic Mean:\", average_value)"
   ]
  },
  {
   "cell_type": "code",
   "execution_count": 4,
   "id": "9a99c67f",
   "metadata": {},
   "outputs": [
    {
     "name": "stdout",
     "output_type": "stream",
     "text": [
      "Arithmetic Mean: 21.642857142857142\n"
     ]
    }
   ],
   "source": [
    "#We can also use the numpy library to find the arithmetic mean, using the np.mean() function\n",
    "\n",
    "mean_arithmetic = np.mean(data)\n",
    "print(\"Arithmetic Mean:\", mean_arithmetic)"
   ]
  },
  {
   "cell_type": "markdown",
   "id": "08dd0bb0",
   "metadata": {},
   "source": [
    "### Median\n",
    "Median: the middle value of the dataset when the numbers are arranged from smallest to largest"
   ]
  },
  {
   "cell_type": "code",
   "execution_count": 5,
   "id": "47bb7a07",
   "metadata": {},
   "outputs": [
    {
     "name": "stdout",
     "output_type": "stream",
     "text": [
      "Median:  16.5\n"
     ]
    }
   ],
   "source": [
    "# We can take advantage of the np.median() function to find the median\n",
    "\n",
    "median = np.median(data)\n",
    "print(\"Median: \", median)"
   ]
  },
  {
   "cell_type": "markdown",
   "id": "3a151312",
   "metadata": {},
   "source": [
    "Note that the median is a number that does not appear in the data. That means that we took the two middle numbers and averaged them to find the median!"
   ]
  },
  {
   "cell_type": "markdown",
   "id": "91cb39b6",
   "metadata": {},
   "source": [
    "### Mode\n",
    "Mode: the most popular value in the dataset (the one that occurs the most times)"
   ]
  },
  {
   "cell_type": "code",
   "execution_count": 6,
   "id": "0b70df57",
   "metadata": {},
   "outputs": [
    {
     "name": "stdout",
     "output_type": "stream",
     "text": [
      "Mode:  12\n"
     ]
    }
   ],
   "source": [
    "#We can use the statistics.mode() function to find the mode\n",
    "\n",
    "mode = statistics.mode(data)\n",
    "print(\"Mode: \", mode)"
   ]
  },
  {
   "cell_type": "markdown",
   "id": "1015015e",
   "metadata": {},
   "source": [
    "## 2. Histograms for visualizing data distributions\n",
    "A histogram shows how frequently values occur in different ranges. It offers a great tool for understanding data distributions, ranges, and more. Below we introduce histograms and "
   ]
  },
  {
   "cell_type": "code",
   "execution_count": 9,
   "id": "fd96dcf2",
   "metadata": {},
   "outputs": [
    {
     "data": {
      "image/png": "[encoded data removed]",
      "text/plain": [
       "<Figure size 800x500 with 1 Axes>"
      ]
     },
     "metadata": {},
     "output_type": "display_data"
    }
   ],
   "source": [
    "#We use matplotlib to create a histogram of our data\n",
    "plt.figure(figsize=(8,5))\n",
    "plt.hist(data, bins=7, color='skyblue', edgecolor='black')\n",
    "plt.title(\"Histogram of Data\")\n",
    "plt.xlabel(\"Value\")\n",
    "plt.ylabel(\"Frequency\")\n",
    "plt.show()\n"
   ]
  },
  {
   "cell_type": "markdown",
   "id": "56f1c4d7",
   "metadata": {},
   "source": [
    "### 🔍 EXERCISE 1: Try changing the data list. How do the mean, median, and mode change? How does the histogram change?"
   ]
  },
  {
   "cell_type": "code",
   "execution_count": 20,
   "id": "0d68bea7",
   "metadata": {},
   "outputs": [],
   "source": [
    "import numpy as np\n",
    "import matplotlib.pyplot as plt\n",
    "from scipy import stats\n",
    "from scipy.stats import norm, uniform, binom, poisson, expon, t, chi2\n",
    "import statistics"
   ]
  },
  {
   "cell_type": "code",
   "execution_count": 21,
   "id": "69048c62-3efa-45c9-be40-75ab2eff80b4",
   "metadata": {},
   "outputs": [
    {
     "name": "stdout",
     "output_type": "stream",
     "text": [
      "Our dataset: [10, 12, 15, 12, 18, 20, 12, 25, 30, 12, 35, 40, 12, 50]\n"
     ]
    }
   ],
   "source": [
    "data = [10, 12, 15, 12, 18, 20, 12, 25, 30, 12, 35, 40, 12, 50]\n",
    "print(\"Our dataset:\", data)"
   ]
  },
  {
   "cell_type": "code",
   "execution_count": 26,
   "id": "30de3e96-894e-40c9-a9f0-e61c51d33d2e",
   "metadata": {},
   "outputs": [
    {
     "data": {
      "image/png": "[encoded data removed]",
      "text/plain": [
       "<Figure size 800x500 with 1 Axes>"
      ]
     },
     "metadata": {},
     "output_type": "display_data"
    }
   ],
   "source": [
    "#We use matplotlib to create a histogram of our data\n",
    "plt.figure(figsize=(8,5))\n",
    "plt.hist(data, bins=7, color='skyblue', edgecolor='black')\n",
    "plt.title(\"Histogram of Data\")\n",
    "plt.xlabel(\"Value\")\n",
    "plt.ylabel(\"Frequency\")\n",
    "plt.show()"
   ]
  },
  {
   "cell_type": "markdown",
   "id": "8b0f1658",
   "metadata": {},
   "source": [
    "### 🔍 EXERCISE 2: Add a very large number (like 500) to the data. What happens to the mean, median, and mode? Which one changes the most? Why? How does the histogram change?"
   ]
  },
  {
   "cell_type": "code",
   "execution_count": 32,
   "id": "f258b531",
   "metadata": {},
   "outputs": [
    {
     "name": "stdout",
     "output_type": "stream",
     "text": [
      "Our dataset: [10, 12, 15, 12, 18, 20, 12, 25, 30, 12, 35, 40, 12, 50, 500, 550, 600, 650, 700, 1000, 10000]\n"
     ]
    }
   ],
   "source": [
    "data = [10, 12, 15, 12, 18, 20, 12, 25, 30, 12, 35, 40, 12, 50, 500, 550, 600, 650, 700, 1000, 10000]\n",
    "print(\"Our dataset:\", data)"
   ]
  },
  {
   "cell_type": "code",
   "execution_count": 33,
   "id": "72e7756b-3626-4c51-b99a-d6d3d6ef36e9",
   "metadata": {},
   "outputs": [
    {
     "name": "stdout",
     "output_type": "stream",
     "text": [
      "Median:  30.0\n"
     ]
    }
   ],
   "source": [
    "median = np.median(data)\n",
    "print(\"Median: \", median)"
   ]
  },
  {
   "cell_type": "code",
   "execution_count": 34,
   "id": "40fc8884-44cf-4071-9f9f-15d9bdc745bc",
   "metadata": {},
   "outputs": [
    {
     "name": "stdout",
     "output_type": "stream",
     "text": [
      "Mode:  12\n"
     ]
    }
   ],
   "source": [
    "mode = statistics.mode(data)\n",
    "print(\"Mode: \", mode)"
   ]
  },
  {
   "cell_type": "code",
   "execution_count": 43,
   "id": "dfe2c891-939b-411c-abcf-a6bfd93d5e72",
   "metadata": {},
   "outputs": [
    {
     "name": "stdout",
     "output_type": "stream",
     "text": [
      "Geometric Mean: 24.646125347603753\n"
     ]
    }
   ],
   "source": [
    "mean_geometric = stats.gmean(data)\n",
    "print(\"Geometric Mean:\", mean_geometric)"
   ]
  },
  {
   "cell_type": "code",
   "execution_count": 49,
   "id": "5f9291fb-4558-4216-bad3-f82c284adb17",
   "metadata": {},
   "outputs": [
    {
     "name": "stdout",
     "output_type": "stream",
     "text": [
      "The harmonic mean of the data is: 24.84191280246869\n"
     ]
    }
   ],
   "source": [
    "n = len(data)\n",
    "sum_of_reciprocals = 0\n",
    "\n",
    "for x_i in data:\n",
    "    sum_of_reciprocals += 1 / x_i\n",
    "\n",
    "harmonic_mean = n / sum_of_reciprocals\n",
    "\n",
    "print(\"The harmonic mean of the data is:\", harmonic_mean)"
   ]
  },
  {
   "cell_type": "code",
   "execution_count": 52,
   "id": "d4b026c2-6866-476e-be62-4288c1d5e0f2",
   "metadata": {},
   "outputs": [
    {
     "data": {
      "image/png": "[encoded data removed]",
      "text/plain": [
       "<Figure size 800x500 with 1 Axes>"
      ]
     },
     "metadata": {},
     "output_type": "display_data"
    }
   ],
   "source": [
    "#We use matplotlib to create a histogram of our data\n",
    "plt.figure(figsize=(8,5))\n",
    "plt.hist(data, bins=7, color='orange', edgecolor='black')\n",
    "plt.title(\"Histogram of Data\")\n",
    "plt.xlabel(\"Value\")\n",
    "plt.ylabel(\"Frequency\")\n",
    "plt.xlim([0,10000])\n",
    "plt.ylim([0,25])\n",
    "plt.show()"
   ]
  },
  {
   "cell_type": "markdown",
   "id": "ce1d0d3f",
   "metadata": {},
   "source": [
    "### 🔍 EXERCISE 3: Try creating your own dataset with numbers that all occur the same number of times. What is the mode in that case? What does the histogram look like?)"
   ]
  },
  {
   "cell_type": "code",
   "execution_count": 29,
   "id": "904a3e21",
   "metadata": {},
   "outputs": [
    {
     "name": "stdout",
     "output_type": "stream",
     "text": [
      "Our data set: [25, 25, 25, 30, 30, 30, 40, 40, 40, 50, 50, 50, 60, 60, 60]\n"
     ]
    }
   ],
   "source": [
    "data = [ 25, 25, 25, 30, 30, 30, 40, 40, 40, 50, 50, 50, 60, 60, 60]\n",
    "print(\"Our data set:\", data)"
   ]
  },
  {
   "cell_type": "code",
   "execution_count": 30,
   "id": "0d86d038-930c-4576-8b57-5bf64b3cc087",
   "metadata": {},
   "outputs": [
    {
     "name": "stdout",
     "output_type": "stream",
     "text": [
      "Median:  40.0\n"
     ]
    }
   ],
   "source": [
    "median = np.median(data)\n",
    "print(\"Median: \", median)"
   ]
  },
  {
   "cell_type": "code",
   "execution_count": 28,
   "id": "762a56df-b76e-492a-a226-4d828d94d231",
   "metadata": {},
   "outputs": [
    {
     "name": "stdout",
     "output_type": "stream",
     "text": [
      "Mode:  25\n"
     ]
    }
   ],
   "source": [
    "mode = statistics.mode(data)\n",
    "print(\"Mode: \", mode)"
   ]
  },
  {
   "cell_type": "code",
   "execution_count": 48,
   "id": "2a05cbf6-61aa-4006-a324-132675ca8526",
   "metadata": {},
   "outputs": [
    {
     "name": "stdout",
     "output_type": "stream",
     "text": [
      "The harmonic mean of the data is: 24.84191280246869\n"
     ]
    }
   ],
   "source": [
    "n = len(data)\n",
    "sum_of_reciprocals = 0\n",
    "\n",
    "for x_i in data:\n",
    "    sum_of_reciprocals += 1 / x_i\n",
    "\n",
    "harmonic_mean = n / sum_of_reciprocals\n",
    "\n",
    "print(\"The harmonic mean of the data is:\", harmonic_mean)"
   ]
  },
  {
   "cell_type": "code",
   "execution_count": 37,
   "id": "5b411a72-301a-4531-833c-22967b429cad",
   "metadata": {},
   "outputs": [
    {
     "data": {
      "image/png": "[encoded data removed]",
      "text/plain": [
       "<Figure size 800x500 with 1 Axes>"
      ]
     },
     "metadata": {},
     "output_type": "display_data"
    }
   ],
   "source": [
    "#We use matplotlib to create a histogram of our data\n",
    "plt.figure(figsize=(8,5))\n",
    "plt.hist(data, bins=7, color='yellow', edgecolor='black')\n",
    "plt.title(\"Histogram of Data\")\n",
    "plt.xlabel(\"Value\")\n",
    "plt.ylabel(\"Frequency\")\n",
    "plt.show()"
   ]
  },
  {
   "cell_type": "markdown",
   "id": "0e171524",
   "metadata": {},
   "source": [
    "### 🔍 EXERCISE 4: Try plotting a histogram of the following data. \n",
    "\n",
    "### Play around with the number of trials and with more or fewer bins (change 'bins=' to a different number). \n",
    "\n",
    "### How does it change the shape of the histogram? What do you notice as you increase the number of bins?\n",
    "\n",
    "### Does this look like any of the distributions we looked at in class?"
   ]
  },
  {
   "cell_type": "code",
   "execution_count": 29,
   "id": "0d782ab1-9797-4c47-9c50-222352540a71",
   "metadata": {},
   "outputs": [
    {
     "name": "stdout",
     "output_type": "stream",
     "text": [
      "Our data set: [25, 25, 25, 30, 30, 30, 40, 40, 40, 50, 50, 50, 60, 60, 60]\n"
     ]
    }
   ],
   "source": [
    "data = [ 25, 25, 25, 30, 30, 30, 40, 40, 40, 50, 50, 50, 60, 60, 60]\n",
    "print(\"Our data set:\", data)"
   ]
  },
  {
   "cell_type": "code",
   "execution_count": 42,
   "id": "bcc1e7bc-1729-46c6-a6db-b5bcb90d6a07",
   "metadata": {},
   "outputs": [
    {
     "name": "stdout",
     "output_type": "stream",
     "text": [
      "Geometric Mean: 24.646125347603753\n"
     ]
    }
   ],
   "source": [
    "mean_geometric = stats.gmean(data)\n",
    "print(\"Geometric Mean:\", mean_geometric)"
   ]
  },
  {
   "cell_type": "code",
   "execution_count": 47,
   "id": "1c96adfe-fa69-4602-9d37-44ed541a9a37",
   "metadata": {},
   "outputs": [
    {
     "name": "stdout",
     "output_type": "stream",
     "text": [
      "The harmonic mean of the data is: 24.84191280246869\n"
     ]
    }
   ],
   "source": [
    "n = len(data)\n",
    "sum_of_reciprocals = 0\n",
    "\n",
    "for x_i in data:\n",
    "    sum_of_reciprocals += 1 / x_i\n",
    "\n",
    "harmonic_mean = n / sum_of_reciprocals\n",
    "\n",
    "print(\"The harmonic mean of the data is:\", harmonic_mean)"
   ]
  },
  {
   "cell_type": "code",
   "execution_count": 57,
   "id": "86eca1fd-5926-4772-8c22-ecd2bed0749b",
   "metadata": {},
   "outputs": [
    {
     "data": {
      "image/png": "[encoded data removed]",
      "text/plain": [
       "<Figure size 1000x1500 with 1 Axes>"
      ]
     },
     "metadata": {},
     "output_type": "display_data"
    }
   ],
   "source": [
    "#We use matplotlib to create a histogram of our data\n",
    "plt.figure(figsize=(10,15))\n",
    "plt.hist(data, bins=20, color='yellow', edgecolor='black')\n",
    "plt.title(\"Histogram Binomial Distribution\")\n",
    "plt.xlabel(\"Number of Successes\")\n",
    "plt.ylabel(\"Frequency\")\n",
    "plt.grid(True)\n",
    "plt.show()"
   ]
  },
  {
   "cell_type": "code",
   "execution_count": null,
   "id": "ca46a8bf-d732-4f49-ad77-7d8b37d4bebe",
   "metadata": {},
   "outputs": [],
   "source": []
  },
  {
   "cell_type": "code",
   "execution_count": 40,
   "id": "995fcf2b",
   "metadata": {},
   "outputs": [],
   "source": [
    "# Parameters\n",
    "n = 50        # number of trials\n",
    "p = 0.5       # probability of success\n",
    "size = 1000  # number of experiments (sample size)\n",
    "\n",
    "# Generate binomial samples\n",
    "data = np.random.binomial(n, p, size)"
   ]
  },
  {
   "cell_type": "code",
   "execution_count": 46,
   "id": "d57a7e30-9b4a-4623-8fe9-f6810aac6b32",
   "metadata": {},
   "outputs": [
    {
     "name": "stdout",
     "output_type": "stream",
     "text": [
      "The harmonic mean of the data is: 24.84191280246869\n"
     ]
    }
   ],
   "source": [
    "n = len(data)\n",
    "sum_of_reciprocals = 0\n",
    "\n",
    "for x_i in data:\n",
    "    sum_of_reciprocals += 1 / x_i\n",
    "\n",
    "harmonic_mean = n / sum_of_reciprocals\n",
    "\n",
    "print(\"The harmonic mean of the data is:\", harmonic_mean)"
   ]
  },
  {
   "cell_type": "code",
   "execution_count": 50,
   "id": "6a908e32-2d21-4ac7-9cbf-304fc294fb17",
   "metadata": {},
   "outputs": [
    {
     "name": "stdout",
     "output_type": "stream",
     "text": [
      "Harmonic Mean: 24.841912802468695\n"
     ]
    }
   ],
   "source": [
    "mean_harmonic = stats.hmean(data)\n",
    "print(\"Harmonic Mean:\", mean_harmonic)"
   ]
  },
  {
   "cell_type": "code",
   "execution_count": 51,
   "id": "cd78f35f",
   "metadata": {},
   "outputs": [
    {
     "data": {
      "image/png": "[encoded data removed]",
      "text/plain": [
       "<Figure size 1000x600 with 1 Axes>"
      ]
     },
     "metadata": {},
     "output_type": "display_data"
    }
   ],
   "source": [
    "#We use matplotlib to create a histogram of our data\n",
    "plt.figure(figsize=(10,6))\n",
    "plt.hist(data, bins=25, color='green', edgecolor='red')\n",
    "plt.title(\"Histogram of Data\")\n",
    "plt.xlabel(\"Value\")\n",
    "plt.ylabel(\"Frequency\")\n",
    "plt.show()\n"
   ]
  },
  {
   "cell_type": "markdown",
   "id": "883fceb9",
   "metadata": {},
   "source": [
    "## BONUS CONTENT"
   ]
  },
  {
   "cell_type": "markdown",
   "id": "df0f6367",
   "metadata": {},
   "source": [
    "### Geometric Mean\n",
    "Geometric Mean: Useful when averaging growth rates (percent changes, population growths, investment returns, etc.). It's the nth root of the product of numbers.\n",
    "\n",
    "# $\\bar{x} = \\sqrt[n]{x_1 x_2 \\cdots x_n}$"
   ]
  },
  {
   "cell_type": "code",
   "execution_count": 10,
   "id": "219d8632",
   "metadata": {},
   "outputs": [
    {
     "name": "stdout",
     "output_type": "stream",
     "text": [
      "Geometric Mean: 18.83171832219404\n"
     ]
    }
   ],
   "source": [
    "#We can find the geometric mean manually by looping over the elements in our dataset\n",
    "\n",
    "#declare a variable \"multiplied_values\" that is initialized to 1\n",
    "multiplied_values=1.0\n",
    "for i in range (0, len(data)):\n",
    "    #Add each value in our dataset to summed_values as we loop through the data array\n",
    "    multiplied_values *= data[i]\n",
    "\n",
    "#find the nth root of the multiplied values - the nth rooth is the same as raising something to the 1/n power\n",
    "geom_average_value = pow(multiplied_values,1./len(data))\n",
    "print(\"Geometric Mean:\", geom_average_value)"
   ]
  },
  {
   "cell_type": "code",
   "execution_count": 6,
   "id": "62dfc988",
   "metadata": {},
   "outputs": [
    {
     "name": "stdout",
     "output_type": "stream",
     "text": [
      "Geometric Mean: 18.831718322194043\n"
     ]
    }
   ],
   "source": [
    "#We can also use the stats library to find the arithmetic mean, using the stats.gmean() function\n",
    "\n",
    "mean_geometric = stats.gmean(data)\n",
    "print(\"Geometric Mean:\", mean_geometric)"
   ]
  },
  {
   "cell_type": "markdown",
   "id": "af43c96e",
   "metadata": {},
   "source": [
    " ### Harmonic Mean\n",
    "Harmonic Mean: used when averaging rates or ratios (e.g., speed). It is the reciprocal of the average of reciprocals\n",
    "\n",
    "# $\\bar{x} = \\dfrac{n}{\\frac{1}{x_1} + \\frac{1}{x_2} + \\cdots \\frac{1}{x_n}}$"
   ]
  },
  {
   "cell_type": "markdown",
   "id": "317d8d6c",
   "metadata": {},
   "source": [
    "### 🔍 EXERCISE: find the harmonic mean of the data set manually using a for loop"
   ]
  },
  {
   "cell_type": "code",
   "execution_count": 44,
   "id": "07dc5678",
   "metadata": {},
   "outputs": [
    {
     "name": "stdout",
     "output_type": "stream",
     "text": [
      "Our dataset: [10, 12, 15, 12, 18, 20, 12, 25, 30, 12, 35, 40, 12, 50, 500, 550, 600, 650, 700, 1000, 10000]\n",
      "The harmonic mean of the data is: 24.84191280246869\n"
     ]
    }
   ],
   "source": [
    "#Loop over the data array and follow the formula for calculating the harmonic mean\n",
    "\n",
    "\n",
    "\n",
    "data = [10, 12, 15, 12, 18, 20, 12, 25, 30, 12, 35, 40, 12, 50, 500, 550, 600, 650, 700, 1000, 10000]\n",
    "print(\"Our dataset:\", data)\n",
    "\n",
    "\n",
    "\n",
    "\n",
    "\n",
    "n = len(data)\n",
    "sum_of_reciprocals = 0\n",
    "\n",
    "for x_i in data:\n",
    "    sum_of_reciprocals += 1 / x_i\n",
    "\n",
    "harmonic_mean = n / sum_of_reciprocals\n",
    "\n",
    "print(\"The harmonic mean of the data is:\", harmonic_mean)"
   ]
  },
  {
   "cell_type": "code",
   "execution_count": 45,
   "id": "36a4b2ea-f5ad-447d-a168-37b3655e4bf9",
   "metadata": {},
   "outputs": [
    {
     "name": "stdout",
     "output_type": "stream",
     "text": [
      "Harmonic Mean: 24.841912802468695\n"
     ]
    }
   ],
   "source": [
    "#you can check your answer by using the stats function stats.hmean() below\n",
    "mean_harmonic = stats.hmean(data)\n",
    "print(\"Harmonic Mean:\", mean_harmonic)"
   ]
  },
  {
   "cell_type": "code",
   "execution_count": 9,
   "id": "c8925175",
   "metadata": {},
   "outputs": [
    {
     "name": "stdout",
     "output_type": "stream",
     "text": [
      "Harmonic Mean: 16.750546007026873\n"
     ]
    }
   ],
   "source": [
    "\n",
    "mean_harmonic = stats.hmean(data)\n",
    "print(\"Harmonic Mean:\", mean_harmonic)"
   ]
  },
  {
   "cell_type": "code",
   "execution_count": null,
   "id": "542d2d63",
   "metadata": {},
   "outputs": [],
   "source": []
  }
 ],
 "metadata": {
  "kernelspec": {
   "display_name": "Python [conda env:base] *",
   "language": "python",
   "name": "conda-base-py"
  },
  "language_info": {
   "codemirror_mode": {
    "name": "ipython",
    "version": 3
   },
   "file_extension": ".py",
   "mimetype": "text/x-python",
   "name": "python",
   "nbconvert_exporter": "python",
   "pygments_lexer": "ipython3",
   "version": "3.12.7"
  }
 },
 "nbformat": 4,
 "nbformat_minor": 5
}

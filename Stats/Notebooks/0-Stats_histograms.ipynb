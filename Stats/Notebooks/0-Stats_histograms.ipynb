{
 "cells": [
  {
   "cell_type": "markdown",
   "id": "9020e3db",
   "metadata": {},
   "source": [
    "# 0 - Introduction to Statistics: Mean, Median, Mode, and Histograms\n",
    "These notebooks will supplement our in-class slides and we will work through some of the examples together in class"
   ]
  },
  {
   "cell_type": "markdown",
   "id": "193ffa10",
   "metadata": {},
   "source": [
    "## 1. Measures of Central Tendency (Mean, Median, Mode)"
   ]
  },
  {
   "cell_type": "markdown",
   "id": "474ee184",
   "metadata": {},
   "source": [
    "First, let's import the libraries we'll need:"
   ]
  },
  {
   "cell_type": "code",
   "execution_count": 1,
   "id": "2535e266",
   "metadata": {},
   "outputs": [],
   "source": [
    "import numpy as np\n",
    "import matplotlib.pyplot as plt\n",
    "from scipy import stats\n",
    "from scipy.stats import norm, uniform, binom, poisson, expon, t, chi2\n",
    "import statistics"
   ]
  },
  {
   "cell_type": "markdown",
   "id": "a3b2e0ac",
   "metadata": {},
   "source": [
    "Let's create a simple dataset to work through examples of some of the things we'll cover in class"
   ]
  },
  {
   "cell_type": "code",
   "execution_count": 2,
   "id": "508fc538",
   "metadata": {},
   "outputs": [
    {
     "name": "stdout",
     "output_type": "stream",
     "text": [
      "Our dataset: [10, 12, 15, 12, 18, 20, 12, 25, 30, 12, 35, 40, 12, 50]\n"
     ]
    }
   ],
   "source": [
    "data = [10, 12, 15, 12, 18, 20, 12, 25, 30, 12, 35, 40, 12, 50]\n",
    "print(\"Our dataset:\", data)"
   ]
  },
  {
   "cell_type": "markdown",
   "id": "966b9ee6",
   "metadata": {},
   "source": [
    "### Arithmetic Mean\n",
    "Arithmetic Mean: The typical meaning of \"average\". Add all numbers and divide by how many numbers there are:\n",
    "\n",
    "\n",
    "# $\\bar{x}=\\dfrac{\\sum_i^N x_i}{N}$"
   ]
  },
  {
   "cell_type": "code",
   "execution_count": 3,
   "id": "bafa4baf",
   "metadata": {},
   "outputs": [
    {
     "name": "stdout",
     "output_type": "stream",
     "text": [
      "Arithmetic Mean: 21.642857142857142\n"
     ]
    }
   ],
   "source": [
    "#We can find the arithmetic mean manually by looping over the elements in our dataset\n",
    "\n",
    "#declare a variable \"summed_values\" that is initialized to zero\n",
    "summed_values=0.0\n",
    "for i in range (0, len(data)):\n",
    "    #Add each value in our dataset to summed_values as we loop through the data array\n",
    "    summed_values = summed_values + data[i]\n",
    "    #You can also do the following for shorthand\n",
    "    #summed_values += data[i]\n",
    "\n",
    "#divide summed_values by the total number of values in data\n",
    "total_number_of_values=len(data)\n",
    "average_value = summed_values/total_number_of_values\n",
    "print(\"Arithmetic Mean:\", average_value)"
   ]
  },
  {
   "cell_type": "code",
   "execution_count": 4,
   "id": "9a99c67f",
   "metadata": {},
   "outputs": [
    {
     "name": "stdout",
     "output_type": "stream",
     "text": [
      "Arithmetic Mean: 21.642857142857142\n"
     ]
    }
   ],
   "source": [
    "#We can also use the numpy library to find the arithmetic mean, using the np.mean() function\n",
    "\n",
    "mean_arithmetic = np.mean(data)\n",
    "print(\"Arithmetic Mean:\", mean_arithmetic)"
   ]
  },
  {
   "cell_type": "markdown",
   "id": "08dd0bb0",
   "metadata": {},
   "source": [
    "### Median\n",
    "Median: the middle value of the dataset when the numbers are arranged from smallest to largest"
   ]
  },
  {
   "cell_type": "code",
   "execution_count": 5,
   "id": "47bb7a07",
   "metadata": {},
   "outputs": [
    {
     "name": "stdout",
     "output_type": "stream",
     "text": [
      "Median:  16.5\n"
     ]
    }
   ],
   "source": [
    "# We can take advantage of the np.median() function to find the median\n",
    "\n",
    "median = np.median(data)\n",
    "print(\"Median: \", median)"
   ]
  },
  {
   "cell_type": "markdown",
   "id": "3a151312",
   "metadata": {},
   "source": [
    "Note that the median is a number that does not appear in the data. That means that we took the two middle numbers and averaged them to find the median!"
   ]
  },
  {
   "cell_type": "markdown",
   "id": "91cb39b6",
   "metadata": {},
   "source": [
    "### Mode\n",
    "Mode: the most popular value in the dataset (the one that occurs the most times)"
   ]
  },
  {
   "cell_type": "code",
   "execution_count": 6,
   "id": "0b70df57",
   "metadata": {},
   "outputs": [
    {
     "name": "stdout",
     "output_type": "stream",
     "text": [
      "Mode:  12\n"
     ]
    }
   ],
   "source": [
    "#We can use the statistics.mode() function to find the mode\n",
    "\n",
    "mode = statistics.mode(data)\n",
    "print(\"Mode: \", mode)"
   ]
  },
  {
   "cell_type": "markdown",
   "id": "1015015e",
   "metadata": {},
   "source": [
    "## 2. Histograms for visualizing data distributions\n",
    "A histogram shows how frequently values occur in different ranges. It offers a great tool for understanding data distributions, ranges, and more. Below we introduce histograms and "
   ]
  },
  {
   "cell_type": "code",
   "execution_count": 9,
   "id": "fd96dcf2",
   "metadata": {},
   "outputs": [
    {
     "data": {
      "image/png": "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",
      "text/plain": [
       "<Figure size 800x500 with 1 Axes>"
      ]
     },
     "metadata": {},
     "output_type": "display_data"
    }
   ],
   "source": [
    "#We use matplotlib to create a histogram of our data\n",
    "plt.figure(figsize=(8,5))\n",
    "plt.hist(data, bins=7, color='skyblue', edgecolor='black')\n",
    "plt.title(\"Histogram of Data\")\n",
    "plt.xlabel(\"Value\")\n",
    "plt.ylabel(\"Frequency\")\n",
    "plt.show()\n"
   ]
  },
  {
   "cell_type": "markdown",
   "id": "56f1c4d7",
   "metadata": {},
   "source": [
    "### 🔍 EXERCISE 1: Try changing the data list. How do the mean, median, and mode change? How does the histogram change?"
   ]
  },
  {
   "cell_type": "code",
   "execution_count": null,
   "id": "0d68bea7",
   "metadata": {},
   "outputs": [],
   "source": []
  },
  {
   "cell_type": "markdown",
   "id": "8b0f1658",
   "metadata": {},
   "source": [
    "### 🔍 EXERCISE 2: Add a very large number (like 500) to the data. What happens to the mean, median, and mode? Which one changes the most? Why? How does the histogram change?"
   ]
  },
  {
   "cell_type": "code",
   "execution_count": null,
   "id": "f258b531",
   "metadata": {},
   "outputs": [],
   "source": []
  },
  {
   "cell_type": "markdown",
   "id": "ce1d0d3f",
   "metadata": {},
   "source": [
    "### 🔍 EXERCISE 3: Try creating your own dataset with numbers that all occur the same number of times. What is the mode in that case? What does the histogram look like?)"
   ]
  },
  {
   "cell_type": "code",
   "execution_count": null,
   "id": "904a3e21",
   "metadata": {},
   "outputs": [],
   "source": []
  },
  {
   "cell_type": "markdown",
   "id": "0e171524",
   "metadata": {},
   "source": [
    "### 🔍 EXERCISE 4: Try plotting a histogram of the following data. \n",
    "\n",
    "### Play around with the number of trials and with more or fewer bins (change 'bins=' to a different number). \n",
    "\n",
    "### How does it change the shape of the histogram? What do you notice as you increase the number of bins?\n",
    "\n",
    "### Does this look like any of the distributions we looked at in class?"
   ]
  },
  {
   "cell_type": "code",
   "execution_count": 18,
   "id": "995fcf2b",
   "metadata": {},
   "outputs": [],
   "source": [
    "# Parameters\n",
    "n = 50        # number of trials\n",
    "p = 0.5       # probability of success\n",
    "size = 1000  # number of experiments (sample size)\n",
    "\n",
    "# Generate binomial samples\n",
    "data = np.random.binomial(n, p, size)"
   ]
  },
  {
   "cell_type": "code",
   "execution_count": 19,
   "id": "cd78f35f",
   "metadata": {},
   "outputs": [],
   "source": [
    "# Plot histogram\n"
   ]
  },
  {
   "cell_type": "markdown",
   "id": "883fceb9",
   "metadata": {},
   "source": [
    "## BONUS CONTENT"
   ]
  },
  {
   "cell_type": "markdown",
   "id": "df0f6367",
   "metadata": {},
   "source": [
    "### Geometric Mean\n",
    "Geometric Mean: Useful when averaging growth rates (percent changes, population growths, investment returns, etc.). It's the nth root of the product of numbers.\n",
    "\n",
    "# $\\bar{x} = \\sqrt[n]{x_1 x_2 \\cdots x_n}$"
   ]
  },
  {
   "cell_type": "code",
   "execution_count": 10,
   "id": "219d8632",
   "metadata": {},
   "outputs": [
    {
     "name": "stdout",
     "output_type": "stream",
     "text": [
      "Geometric Mean: 18.83171832219404\n"
     ]
    }
   ],
   "source": [
    "#We can find the geometric mean manually by looping over the elements in our dataset\n",
    "\n",
    "#declare a variable \"multiplied_values\" that is initialized to 1\n",
    "multiplied_values=1.0\n",
    "for i in range (0, len(data)):\n",
    "    #Add each value in our dataset to summed_values as we loop through the data array\n",
    "    multiplied_values *= data[i]\n",
    "\n",
    "#find the nth root of the multiplied values - the nth rooth is the same as raising something to the 1/n power\n",
    "geom_average_value = pow(multiplied_values,1./len(data))\n",
    "print(\"Geometric Mean:\", geom_average_value)"
   ]
  },
  {
   "cell_type": "code",
   "execution_count": 6,
   "id": "62dfc988",
   "metadata": {},
   "outputs": [
    {
     "name": "stdout",
     "output_type": "stream",
     "text": [
      "Geometric Mean: 18.831718322194043\n"
     ]
    }
   ],
   "source": [
    "#We can also use the stats library to find the arithmetic mean, using the stats.gmean() function\n",
    "\n",
    "mean_geometric = stats.gmean(data)\n",
    "print(\"Geometric Mean:\", mean_geometric)"
   ]
  },
  {
   "cell_type": "markdown",
   "id": "af43c96e",
   "metadata": {},
   "source": [
    " ### Harmonic Mean\n",
    "Harmonic Mean: used when averaging rates or ratios (e.g., speed). It is the reciprocal of the average of reciprocals\n",
    "\n",
    "# $\\bar{x} = \\dfrac{n}{\\frac{1}{x_1} + \\frac{1}{x_2} + \\cdots \\frac{1}{x_n}}$"
   ]
  },
  {
   "cell_type": "markdown",
   "id": "317d8d6c",
   "metadata": {},
   "source": [
    "### 🔍 EXERCISE: find the harmonic mean of the data set manually using a for loop"
   ]
  },
  {
   "cell_type": "code",
   "execution_count": 8,
   "id": "07dc5678",
   "metadata": {},
   "outputs": [],
   "source": [
    "#Loop over the data array and follow the formula for calculating the harmonic mean\n"
   ]
  },
  {
   "cell_type": "code",
   "execution_count": 9,
   "id": "c8925175",
   "metadata": {},
   "outputs": [
    {
     "name": "stdout",
     "output_type": "stream",
     "text": [
      "Harmonic Mean: 16.750546007026873\n"
     ]
    }
   ],
   "source": [
    "#you can check your answer by using the stats function stats.hmean() below\n",
    "mean_harmonic = stats.hmean(data)\n",
    "print(\"Harmonic Mean:\", mean_harmonic)"
   ]
  },
  {
   "cell_type": "code",
   "execution_count": null,
<<<<<<< HEAD
   "id": "a28eb8ba-164e-4ad6-ac4c-5a599a9bfa71",
   "metadata": {},
   "outputs": [],
   "source": []
  },
  {
   "cell_type": "code",
   "execution_count": 4,
   "id": "0d68bea7",
   "metadata": {
    "scrolled": true
   },
   "outputs": [
    {
     "name": "stdout",
     "output_type": "stream",
     "text": [
      "Arithmetic Mean: 22.5625\n"
     ]
    }
   ],
   "source": [
    "data = [10, 12, 15, 12, 18, 20, 12, 25, 30, 12, 35, 40, 12, 50, 13, 45]\n",
    "mean_arithmetic = np.mean(data)\n",
    "print(\"Arithmetic Mean:\", mean_arithmetic)"
   ]
  },
  {
   "cell_type": "code",
   "execution_count": 5,
   "id": "4e279e55-80a6-47b1-9b97-84b44628f7eb",
   "metadata": {
    "scrolled": true
   },
   "outputs": [
    {
     "name": "stdout",
     "output_type": "stream",
     "text": [
      "Arithmetic Median: 16.5\n"
     ]
    }
   ],
   "source": [
    "data = [10, 12, 15, 12, 18, 20, 12, 25, 30, 12, 35, 40, 12, 50, 13, 45]\n",
    "median_arithmetic = np.median(data)\n",
    "print(\"Arithmetic Median:\", median_arithmetic)\n"
   ]
  },
  {
   "cell_type": "code",
   "execution_count": 6,
   "id": "eda85288-021c-4f8d-ad89-e1a18e9621bf",
   "metadata": {},
   "outputs": [
    {
     "ename": "AttributeError",
     "evalue": "module 'numpy' has no attribute 'mode'",
     "output_type": "error",
     "traceback": [
      "\u001b[1;31m---------------------------------------------------------------------------\u001b[0m",
      "\u001b[1;31mAttributeError\u001b[0m                            Traceback (most recent call last)",
      "Cell \u001b[1;32mIn[6], line 2\u001b[0m\n\u001b[0;32m      1\u001b[0m data \u001b[38;5;241m=\u001b[39m [\u001b[38;5;241m10\u001b[39m, \u001b[38;5;241m12\u001b[39m, \u001b[38;5;241m15\u001b[39m, \u001b[38;5;241m12\u001b[39m, \u001b[38;5;241m18\u001b[39m, \u001b[38;5;241m20\u001b[39m, \u001b[38;5;241m12\u001b[39m, \u001b[38;5;241m25\u001b[39m, \u001b[38;5;241m30\u001b[39m, \u001b[38;5;241m12\u001b[39m, \u001b[38;5;241m35\u001b[39m, \u001b[38;5;241m40\u001b[39m, \u001b[38;5;241m12\u001b[39m, \u001b[38;5;241m50\u001b[39m, \u001b[38;5;241m13\u001b[39m, \u001b[38;5;241m45\u001b[39m]\n\u001b[1;32m----> 2\u001b[0m mode_arithmetic \u001b[38;5;241m=\u001b[39m np\u001b[38;5;241m.\u001b[39mmode(data)\n\u001b[0;32m      3\u001b[0m \u001b[38;5;28mprint\u001b[39m(\u001b[38;5;124m\"\u001b[39m\u001b[38;5;124mArithmetic Mode:\u001b[39m\u001b[38;5;124m\"\u001b[39m, mode_arithmetic)\n",
      "File \u001b[1;32mC:\\ProgramData\\anaconda3\\Lib\\site-packages\\numpy\\__init__.py:333\u001b[0m, in \u001b[0;36m__getattr__\u001b[1;34m(attr)\u001b[0m\n\u001b[0;32m    330\u001b[0m     \u001b[38;5;124m\"\u001b[39m\u001b[38;5;124mRemoved in NumPy 1.25.0\u001b[39m\u001b[38;5;124m\"\u001b[39m\n\u001b[0;32m    331\u001b[0m     \u001b[38;5;28;01mraise\u001b[39;00m \u001b[38;5;167;01mRuntimeError\u001b[39;00m(\u001b[38;5;124m\"\u001b[39m\u001b[38;5;124mTester was removed in NumPy 1.25.\u001b[39m\u001b[38;5;124m\"\u001b[39m)\n\u001b[1;32m--> 333\u001b[0m \u001b[38;5;28;01mraise\u001b[39;00m \u001b[38;5;167;01mAttributeError\u001b[39;00m(\u001b[38;5;124m\"\u001b[39m\u001b[38;5;124mmodule \u001b[39m\u001b[38;5;132;01m{!r}\u001b[39;00m\u001b[38;5;124m has no attribute \u001b[39m\u001b[38;5;124m\"\u001b[39m\n\u001b[0;32m    334\u001b[0m                      \u001b[38;5;124m\"\u001b[39m\u001b[38;5;132;01m{!r}\u001b[39;00m\u001b[38;5;124m\"\u001b[39m\u001b[38;5;241m.\u001b[39mformat(\u001b[38;5;18m__name__\u001b[39m, attr))\n",
      "\u001b[1;31mAttributeError\u001b[0m: module 'numpy' has no attribute 'mode'"
     ]
    }
   ],
   "source": [
    "data = [10, 12, 15, 12, 18, 20, 12, 25, 30, 12, 35, 40, 12, 50, 13, 45]\n",
    "mode_arithmetic = np.mode(data)\n",
    "print(\"Arithmetic Mode:\", mode_arithmetic)"
   ]
  },
  {
   "cell_type": "code",
   "execution_count": 7,
   "id": "f9862dfb-fdf3-4597-8404-1eb8d9cbbc18",
   "metadata": {},
   "outputs": [
    {
     "data": {
      "image/png": "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",
      "text/plain": [
       "<Figure size 800x500 with 1 Axes>"
      ]
     },
     "metadata": {},
     "output_type": "display_data"
    }
   ],
   "source": [
    "plt.figure(figsize=(8,5))\n",
    "plt.hist(data, bins=7, color='lime', edgecolor='orange')\n",
    "plt.title(\"Histogram of Data\")\n",
    "plt.xlabel(\"Value\")\n",
    "plt.ylabel(\"Frequency\")\n",
    "plt.show()"
   ]
  },
  {
   "cell_type": "markdown",
   "id": "8b0f1658",
   "metadata": {},
   "source": [
    "### 🔍 EXERCISE 3: Add a very large number (like 500) to the data. What happens to the mean, median, and mode? Which one changes the most? Why? How does the histogram change?"
   ]
  },
  {
   "cell_type": "code",
   "execution_count": 9,
   "id": "f258b531",
   "metadata": {
    "scrolled": true
   },
   "outputs": [
    {
     "name": "stdout",
     "output_type": "stream",
     "text": [
      "Arithmetic Mean: 50.64705882352941\n"
     ]
    }
   ],
   "source": [
    "data = [10, 12, 15, 12, 18, 20, 12, 25, 30, 12, 35, 40, 12, 50, 13, 45, 500]\n",
    "\n",
    "data = [10, 12, 15, 12, 18, 20, 12, 25, 30, 12, 35, 40, 12, 50, 13, 45, 500]\n",
    "mean_arithmetic = np.mean(data)\n",
    "print(\"Arithmetic Mean:\", mean_arithmetic)"
   ]
  },
  {
   "cell_type": "code",
   "execution_count": 10,
   "id": "579f3a59-c314-49eb-b0c7-3ab378c4cb27",
   "metadata": {
    "scrolled": true
   },
   "outputs": [
    {
     "name": "stdout",
     "output_type": "stream",
     "text": [
      "Arithmetic Median: 18.0\n"
     ]
    }
   ],
   "source": [
    "data = [10, 12, 15, 12, 18, 20, 12, 25, 30, 12, 35, 40, 12, 50, 13, 45, 500]\n",
    "median_arithmetic = np.median(data)\n",
    "print(\"Arithmetic Median:\", median_arithmetic)"
   ]
  },
  {
   "cell_type": "code",
   "execution_count": 11,
   "id": "e8967ce1-fefb-4836-8844-8a97391d136b",
   "metadata": {},
   "outputs": [
    {
     "data": {
      "image/png": "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",
      "text/plain": [
       "<Figure size 800x500 with 1 Axes>"
      ]
     },
     "metadata": {},
     "output_type": "display_data"
    }
   ],
   "source": [
    "plt.figure(figsize=(8,5))\n",
    "plt.hist(data, bins=7, color='lime', edgecolor='orange')\n",
    "plt.title(\"Histogram of Data\")\n",
    "plt.xlabel(\"Value\")\n",
    "plt.ylabel(\"Frequency\")\n",
    "plt.show()"
   ]
  },
  {
   "cell_type": "markdown",
   "id": "ce1d0d3f",
   "metadata": {},
   "source": [
    "### 🔍 EXERCISE 4: Try creating your own dataset with numbers that all occur the same number of times. What is the mode in that case? What does the histogram look like?)"
   ]
  },
  {
   "cell_type": "code",
   "execution_count": 12,
   "id": "904a3e21",
   "metadata": {
    "scrolled": true
   },
   "outputs": [
    {
     "name": "stdout",
     "output_type": "stream",
     "text": [
      "Arithmetic Mean: 42.63333333333333\n"
     ]
    }
   ],
   "source": [
    "data = [10, 12, 22, 28, 79, 79, 79, 15, 12, 18, 20, 12, 25, 30, 12, 35, 40, 12, 50, 13, 45, 500, 22, 28, 22, 28, 28, 1, 1, 1]\n",
    "\n",
    "data = [10, 12, 22, 28, 79, 79, 79, 15, 12, 18, 20, 12, 25, 30, 12, 35, 40, 12, 50, 13, 45, 500, 22, 28, 22, 28, 28, 1, 1, 1]\n",
    "mean_arithmetic = np.mean(data)\n",
    "print(\"Arithmetic Mean:\", mean_arithmetic)"
   ]
  },
  {
   "cell_type": "code",
   "execution_count": 13,
   "id": "87bae511-1ae6-4673-8559-246871284ab5",
   "metadata": {
    "scrolled": true
   },
   "outputs": [
    {
     "name": "stdout",
     "output_type": "stream",
     "text": [
      "Arithmetic Median: 22.0\n"
     ]
    }
   ],
   "source": [
    "data = [10, 12, 22, 28, 79, 79, 79, 15, 12, 18, 20, 12, 25, 30, 12, 35, 40, 12, 50, 13, 45, 500, 22, 28, 22, 28, 28, 1, 1, 1]\n",
    "\n",
    "data = [10, 12, 22, 28, 79, 79, 79, 15, 12, 18, 20, 12, 25, 30, 12, 35, 40, 12, 50, 13, 45, 500, 22, 28, 22, 28, 28, 1, 1, 1]\n",
    "median_arithmetic = np.median(data)\n",
    "print(\"Arithmetic Median:\", median_arithmetic)"
   ]
  },
  {
   "cell_type": "code",
   "execution_count": 14,
   "id": "601c6153-8c78-4ee1-bcd4-0caf2fb1c309",
   "metadata": {},
   "outputs": [
    {
     "data": {
      "image/png": "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",
      "text/plain": [
       "<Figure size 800x500 with 1 Axes>"
      ]
     },
     "metadata": {},
     "output_type": "display_data"
    }
   ],
   "source": [
    "plt.figure(figsize=(8,5))\n",
    "plt.hist(data, bins=7, color='lime', edgecolor='orange')\n",
    "plt.title(\"Histogram of Data\")\n",
    "plt.xlabel(\"Value\")\n",
    "plt.ylabel(\"Frequency\")\n",
    "plt.show()"
   ]
  },
  {
   "cell_type": "markdown",
   "id": "0e171524",
   "metadata": {},
   "source": [
    "### 🔍 EXERCISE 5: Try plotting a histogram of the following data. Play around with the number of trials and with more or fewer bins (change 'bins=' to a different number). How does it change the shape of the histogram? What do you notice as you increase the number of bins?"
   ]
  },
  {
   "cell_type": "code",
   "execution_count": 58,
   "id": "995fcf2b",
   "metadata": {},
   "outputs": [],
   "source": [
    "# Parameters\n",
    "n = 50        # number of trials\n",
    "p = 0.5       # probability of success\n",
    "size = 1000  # number of experiments (sample size)\n",
    "\n",
    "# Generate binomial samples\n",
    "data = np.random.binomial(n, p, size)"
   ]
  },
  {
   "cell_type": "code",
   "execution_count": 1,
   "id": "cd78f35f",
   "metadata": {},
   "outputs": [],
   "source": [
    "# Plot histogram\n"
   ]
=======
   "id": "542d2d63",
   "metadata": {},
   "outputs": [],
   "source": []
>>>>>>> upstream/main
  }
 ],
 "metadata": {
  "kernelspec": {
<<<<<<< HEAD
   "display_name": "Python [conda env:base] *",
=======
   "display_name": "Python 3 (ipykernel)",
>>>>>>> upstream/main
   "language": "python",
   "name": "conda-base-py"
  },
  "language_info": {
   "codemirror_mode": {
    "name": "ipython",
    "version": 3
   },
   "file_extension": ".py",
   "mimetype": "text/x-python",
   "name": "python",
   "nbconvert_exporter": "python",
   "pygments_lexer": "ipython3",
   "version": "3.12.7"
  }
 },
 "nbformat": 4,
 "nbformat_minor": 5
}

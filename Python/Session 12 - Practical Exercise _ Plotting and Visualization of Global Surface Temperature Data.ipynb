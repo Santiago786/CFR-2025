{
 "cells": [
  {
   "cell_type": "markdown",
   "metadata": {},
   "source": [
    "# Practical: Plotting and Visualization of Global Surface Temperature Data\n",
    "\n",
    "## Introduction\n",
    "In this practical, we will use the monthly average of the Earth’s surface temperature data from Jan 1850 to Dec 2023. We will explore various plotting techniques using Pandas and Matplotlib to analyze the data and extract meaningful insights.\n",
    "\n",
    "## Objectives\n",
    "- Plot the entire temperature record with meaningful labels and correct units.\n",
    "- Visualize the seasonal cycle by plotting the last 5 years of the record.\n",
    "- Create a bar chart showing average temperatures from three different 20-year periods.\n",
    "- Calculate and plot the average temperature for each year.\n",
    "\n",
    "## Prerequisites\n",
    "- Knowledge of Python: functions, variables, lists, conditionals, loops, arrays.\n",
    "- Basic understanding of Pandas and Matplotlib.\n",
    "\n",
    "**Estimated Time: 1.5 hours**\n",
    "\n",
    "## Background:\n",
    "This dataset is the monthly average of the Earth’s surface (land and ocean/sea ice) temperature from Jan 1850 to Dec 2023 produced by Berkeley Earth. This record charts Earth’s unprecedented warming over the past century and is used extensively in international governmental reports to shape climate policies and ground truth climate model output.\n",
    "\n",
    "If you simply plot the time series, however, it will be challenging to discern the steady warming signal by eye. What you’ll notice is a record with a lot of wiggles, or what might be characterized as ‘noise’ when the signal of interest is Earth’s warming trend. Those persistent ups and downs in the signal are due to the asymmetry in the distribution of land between Earth’s two hemispheres, with the Northern hemisphere having more land cover than the Southern hemisphere. Given the same incoming solar radiation, the surface temperature of land will warm more than if that area is ocean. This asymmetry, in combination with the annual changes in incoming solar radiation due to the tilt of Earth’s axis (seasons!), means that the monthly average temperature of the Earth also changes over the year. This is called a seasonal cycle. The seasonal cycle of the global average surface temperature of the Earth follows the Northern Hemisphere, warmest in July and coldest in January. This seasonal cycle is a natural cycle for Earth’s climate due to Earth’s rotation around the sun, the tilt of Earth’s axis, and the distribution of land over the surface of the Earth. \n",
    "\n",
    "In climate science, there are lots of different natural cycles that imprint on observed quantities like the average global surface temperature or the average amount of carbon dioxide in the atmosphere. Scientists often quantify these natural cycles by calculating what are called climatologies. A climatology is simply an average of a natural cycle of a quantity taken over a period of time that is understood to be representative of that natural cycle. Sometimes that period is described as the baseline. To calculate the seasonal climatology for Earth’s monthly global average surface temperature, you would average all the January’s in the record to find the climatological January, and then average all the February’s in the record, and so on. The end result is a typical (average) year in global average surface temperature on Earth. The period of time to include in this calculation will depend on your scientific interests and questions.\n",
    "\n",
    "While these natural cycles are interesting, researchers are most interested in the way the climate system deviates from this natural cycle. The deviations of a quantity from its average cycle (climatology) is called an anomaly. Anomalies are very interesting. They tell us how a particular data point compares to other data points which should be very similar to it because of the presence of natural cycles. It’s the way we know if this June is hot compared to all the other previous June’s in our records. This is how we quantify exactly how much our Earth has warmed in the past century.\n",
    "\n",
    "## Step 1: Importing Required Libraries\n",
    "\n",
    "### Task\n",
    "Before we start, let's import Pandas and Matplotlib. These libraries are essential for data manipulation and visualization.\n",
    "\n",
    "### Hints\n",
    "- Use `import pandas as pd` to import Pandas.\n",
    "- Use `import matplotlib.pyplot as plt` to import Matplotlib's plotting module."
   ]
  },
  {
   "cell_type": "code",
   "execution_count": 1,
   "metadata": {},
   "outputs": [],
   "source": [
    "import pandas as pd\n",
    "import matplotlib.pyplot as plt"
   ]
  },
  {
   "cell_type": "markdown",
   "metadata": {},
   "source": [
    "## Step 2: Loading and Preparing the Data\n",
    "\n",
    "### Task\n",
    "Load the data into a Pandas DataFrame and display the first few rows to understand its structure.\n",
    "\n",
    "### Hints\n",
    "- Use `pd.read_csv` to load the dataset.\n",
    "- Use `df.head()` to display the first few rows of the DataFrame."
   ]
  },
  {
   "cell_type": "code",
   "execution_count": 5,
   "metadata": {},
   "outputs": [
    {
     "data": {
      "text/html": [
       "<div>\n",
       "<style scoped>\n",
       "    .dataframe tbody tr th:only-of-type {\n",
       "        vertical-align: middle;\n",
       "    }\n",
       "\n",
       "    .dataframe tbody tr th {\n",
       "        vertical-align: top;\n",
       "    }\n",
       "\n",
       "    .dataframe thead th {\n",
       "        text-align: right;\n",
       "    }\n",
       "</style>\n",
       "<table border=\"1\" class=\"dataframe\">\n",
       "  <thead>\n",
       "    <tr style=\"text-align: right;\">\n",
       "      <th></th>\n",
       "      <th>Year</th>\n",
       "      <th>Month</th>\n",
       "      <th>Monthly Average</th>\n",
       "      <th>Monthly Anomaly Uncertainty</th>\n",
       "    </tr>\n",
       "  </thead>\n",
       "  <tbody>\n",
       "    <tr>\n",
       "      <th>0</th>\n",
       "      <td>1850</td>\n",
       "      <td>1</td>\n",
       "      <td>11.440</td>\n",
       "      <td>0.404</td>\n",
       "    </tr>\n",
       "    <tr>\n",
       "      <th>1</th>\n",
       "      <td>1850</td>\n",
       "      <td>2</td>\n",
       "      <td>12.197</td>\n",
       "      <td>0.524</td>\n",
       "    </tr>\n",
       "    <tr>\n",
       "      <th>2</th>\n",
       "      <td>1850</td>\n",
       "      <td>3</td>\n",
       "      <td>12.666</td>\n",
       "      <td>0.449</td>\n",
       "    </tr>\n",
       "    <tr>\n",
       "      <th>3</th>\n",
       "      <td>1850</td>\n",
       "      <td>4</td>\n",
       "      <td>13.345</td>\n",
       "      <td>0.304</td>\n",
       "    </tr>\n",
       "    <tr>\n",
       "      <th>4</th>\n",
       "      <td>1850</td>\n",
       "      <td>5</td>\n",
       "      <td>14.288</td>\n",
       "      <td>0.249</td>\n",
       "    </tr>\n",
       "  </tbody>\n",
       "</table>\n",
       "</div>"
      ],
      "text/plain": [
       "   Year  Month  Monthly Average  Monthly Anomaly Uncertainty\n",
       "0  1850      1           11.440                        0.404\n",
       "1  1850      2           12.197                        0.524\n",
       "2  1850      3           12.666                        0.449\n",
       "3  1850      4           13.345                        0.304\n",
       "4  1850      5           14.288                        0.249"
      ]
     },
     "execution_count": 5,
     "metadata": {},
     "output_type": "execute_result"
    }
   ],
   "source": [
    "df= pd.read_csv('GAST_BerkeleyEarth_1850-2023.csv')\n",
    "df.head()"
   ]
  },
  {
   "cell_type": "markdown",
   "metadata": {},
   "source": [
    "## Step 3: Plotting the Entire Temperature Record\n",
    "\n",
    "### Task\n",
    "Plot the entire temperature record from 1850 to 2023.\n",
    "\n",
    "### Hints\n",
    "- Convert the 'Year' and 'Month' columns to a datetime object. \n",
    "    - `pd.to_datetime` may come in handy.\n",
    "- Use `plt.plot` to create the plot.\n",
    "- Label the axes and add a title."
   ]
  },
  {
   "cell_type": "code",
   "execution_count": 9,
   "metadata": {},
   "outputs": [
    {
     "data": {
      "text/html": [
       "<div>\n",
       "<style scoped>\n",
       "    .dataframe tbody tr th:only-of-type {\n",
       "        vertical-align: middle;\n",
       "    }\n",
       "\n",
       "    .dataframe tbody tr th {\n",
       "        vertical-align: top;\n",
       "    }\n",
       "\n",
       "    .dataframe thead th {\n",
       "        text-align: right;\n",
       "    }\n",
       "</style>\n",
       "<table border=\"1\" class=\"dataframe\">\n",
       "  <thead>\n",
       "    <tr style=\"text-align: right;\">\n",
       "      <th></th>\n",
       "      <th>Year</th>\n",
       "      <th>Month</th>\n",
       "      <th>Monthly Average</th>\n",
       "      <th>Monthly Anomaly Uncertainty</th>\n",
       "      <th>Day</th>\n",
       "      <th>Date</th>\n",
       "    </tr>\n",
       "  </thead>\n",
       "  <tbody>\n",
       "    <tr>\n",
       "      <th>0</th>\n",
       "      <td>1850</td>\n",
       "      <td>1</td>\n",
       "      <td>11.440</td>\n",
       "      <td>0.404</td>\n",
       "      <td>1</td>\n",
       "      <td>1850-01-01</td>\n",
       "    </tr>\n",
       "    <tr>\n",
       "      <th>1</th>\n",
       "      <td>1850</td>\n",
       "      <td>2</td>\n",
       "      <td>12.197</td>\n",
       "      <td>0.524</td>\n",
       "      <td>1</td>\n",
       "      <td>1850-02-01</td>\n",
       "    </tr>\n",
       "    <tr>\n",
       "      <th>2</th>\n",
       "      <td>1850</td>\n",
       "      <td>3</td>\n",
       "      <td>12.666</td>\n",
       "      <td>0.449</td>\n",
       "      <td>1</td>\n",
       "      <td>1850-03-01</td>\n",
       "    </tr>\n",
       "    <tr>\n",
       "      <th>3</th>\n",
       "      <td>1850</td>\n",
       "      <td>4</td>\n",
       "      <td>13.345</td>\n",
       "      <td>0.304</td>\n",
       "      <td>1</td>\n",
       "      <td>1850-04-01</td>\n",
       "    </tr>\n",
       "    <tr>\n",
       "      <th>4</th>\n",
       "      <td>1850</td>\n",
       "      <td>5</td>\n",
       "      <td>14.288</td>\n",
       "      <td>0.249</td>\n",
       "      <td>1</td>\n",
       "      <td>1850-05-01</td>\n",
       "    </tr>\n",
       "  </tbody>\n",
       "</table>\n",
       "</div>"
      ],
      "text/plain": [
       "   Year  Month  Monthly Average  Monthly Anomaly Uncertainty  Day       Date\n",
       "0  1850      1           11.440                        0.404    1 1850-01-01\n",
       "1  1850      2           12.197                        0.524    1 1850-02-01\n",
       "2  1850      3           12.666                        0.449    1 1850-03-01\n",
       "3  1850      4           13.345                        0.304    1 1850-04-01\n",
       "4  1850      5           14.288                        0.249    1 1850-05-01"
      ]
     },
     "execution_count": 9,
     "metadata": {},
     "output_type": "execute_result"
    }
   ],
   "source": [
    "\n",
    "df['Day'] = 1\n",
    "df['Date'] = pd.to_datetime(df[['Year', 'Month', 'Day']])\n",
    "\n",
    "\n",
    "df.head()\n",
    "\n",
    "\n"
   ]
  },
  {
   "cell_type": "code",
   "execution_count": 10,
   "metadata": {},
   "outputs": [
    {
     "ename": "SyntaxError",
     "evalue": "invalid syntax (1396811449.py, line 1)",
     "output_type": "error",
     "traceback": [
      "\u001b[1;36m  Cell \u001b[1;32mIn[10], line 1\u001b[1;36m\u001b[0m\n\u001b[1;33m    pd.head(2020:2026)\u001b[0m\n\u001b[1;37m                ^\u001b[0m\n\u001b[1;31mSyntaxError\u001b[0m\u001b[1;31m:\u001b[0m invalid syntax\n"
     ]
    }
   ],
   "source": []
  },
  {
   "cell_type": "code",
   "execution_count": 11,
   "metadata": {},
   "outputs": [
    {
     "data": {
      "image/png": "[encoded data removed]",
      "text/plain": [
       "<Figure size 640x480 with 1 Axes>"
      ]
     },
     "metadata": {},
     "output_type": "display_data"
    }
   ],
   "source": [
    "plt.plot(df['Date'], df['Monthly Average'])\n",
    "plt.title('Date vs. Monthly Average')\n",
    "plt.xlabel('Date')\n",
    "plt.ylabel('Monthly Average')\n",
    "\n",
    "# Displaying the plot\n",
    "plt.show()"
   ]
  },
  {
   "cell_type": "code",
   "execution_count": 17,
   "metadata": {},
   "outputs": [
    {
     "data": {
      "text/html": [
       "<div>\n",
       "<style scoped>\n",
       "    .dataframe tbody tr th:only-of-type {\n",
       "        vertical-align: middle;\n",
       "    }\n",
       "\n",
       "    .dataframe tbody tr th {\n",
       "        vertical-align: top;\n",
       "    }\n",
       "\n",
       "    .dataframe thead th {\n",
       "        text-align: right;\n",
       "    }\n",
       "</style>\n",
       "<table border=\"1\" class=\"dataframe\">\n",
       "  <thead>\n",
       "    <tr style=\"text-align: right;\">\n",
       "      <th></th>\n",
       "      <th>Year</th>\n",
       "      <th>Month</th>\n",
       "      <th>Monthly Average</th>\n",
       "      <th>Monthly Anomaly Uncertainty</th>\n",
       "      <th>Day</th>\n",
       "      <th>Date</th>\n",
       "    </tr>\n",
       "  </thead>\n",
       "  <tbody>\n",
       "    <tr>\n",
       "      <th>2028</th>\n",
       "      <td>2019</td>\n",
       "      <td>1</td>\n",
       "      <td>13.188</td>\n",
       "      <td>0.036</td>\n",
       "      <td>1</td>\n",
       "      <td>2019-01-01</td>\n",
       "    </tr>\n",
       "    <tr>\n",
       "      <th>2029</th>\n",
       "      <td>2019</td>\n",
       "      <td>2</td>\n",
       "      <td>13.427</td>\n",
       "      <td>0.037</td>\n",
       "      <td>1</td>\n",
       "      <td>2019-02-01</td>\n",
       "    </tr>\n",
       "    <tr>\n",
       "      <th>2030</th>\n",
       "      <td>2019</td>\n",
       "      <td>3</td>\n",
       "      <td>14.274</td>\n",
       "      <td>0.038</td>\n",
       "      <td>1</td>\n",
       "      <td>2019-03-01</td>\n",
       "    </tr>\n",
       "    <tr>\n",
       "      <th>2031</th>\n",
       "      <td>2019</td>\n",
       "      <td>4</td>\n",
       "      <td>15.088</td>\n",
       "      <td>0.035</td>\n",
       "      <td>1</td>\n",
       "      <td>2019-04-01</td>\n",
       "    </tr>\n",
       "    <tr>\n",
       "      <th>2032</th>\n",
       "      <td>2019</td>\n",
       "      <td>5</td>\n",
       "      <td>15.874</td>\n",
       "      <td>0.036</td>\n",
       "      <td>1</td>\n",
       "      <td>2019-05-01</td>\n",
       "    </tr>\n",
       "  </tbody>\n",
       "</table>\n",
       "</div>"
      ],
      "text/plain": [
       "      Year  Month  Monthly Average  Monthly Anomaly Uncertainty  Day  \\\n",
       "2028  2019      1           13.188                        0.036    1   \n",
       "2029  2019      2           13.427                        0.037    1   \n",
       "2030  2019      3           14.274                        0.038    1   \n",
       "2031  2019      4           15.088                        0.035    1   \n",
       "2032  2019      5           15.874                        0.036    1   \n",
       "\n",
       "           Date  \n",
       "2028 2019-01-01  \n",
       "2029 2019-02-01  \n",
       "2030 2019-03-01  \n",
       "2031 2019-04-01  \n",
       "2032 2019-05-01  "
      ]
     },
     "execution_count": 17,
     "metadata": {},
     "output_type": "execute_result"
    }
   ],
   "source": [
    "df_last_five_years = df[df['Year']>2018]\n",
    "df_last_five_years.head()"
   ]
  },
  {
   "cell_type": "markdown",
   "metadata": {},
   "source": [
    "## Step 4: Plotting the Last 5 Years to See the Seasonal Cycle\n",
    "\n",
    "### Task\n",
    "Filter the data for the last 5 years and plot the temperature record to observe the seasonal cycle.\n",
    "\n",
    "### Hints\n",
    "- Use boolean indexing to filter the DataFrame for the years 2018 to 2023.\n",
    "- Plot the filtered DataFrame using `plt.plot`.\n"
   ]
  },
  {
   "cell_type": "code",
   "execution_count": 20,
   "metadata": {},
   "outputs": [
    {
     "data": {
      "text/plain": [
       "Text(0, 0.5, 'Monthly Average')"
      ]
     },
     "execution_count": 20,
     "metadata": {},
     "output_type": "execute_result"
    },
    {
     "data": {
      "image/png": "[encoded data removed]",
      "text/plain": [
       "<Figure size 640x480 with 1 Axes>"
      ]
     },
     "metadata": {},
     "output_type": "display_data"
    }
   ],
   "source": [
    "plt.plot(df_last_five_years['Date'], df_last_five_years['Monthly Average'])\n",
    "plt.title('Date vs. Monthly Average')\n",
    "plt.xlabel('Date')\n",
    "plt.ylabel('Monthly Average')\n",
    "\n",
    "\n"
   ]
  },
  {
   "cell_type": "markdown",
   "metadata": {},
   "source": [
    "## Step 5: Creating a Bar Chart for Average Temperatures of Different 20-Year Periods\n",
    "\n",
    "### Task\n",
    "Calculate and plot the average temperature for three different 20-year periods.\n",
    "\n",
    "### Hints\n",
    "- Choose three 20-year periods (e.g., 1850-1869, 1950-1969, 2000-2019).\n",
    "- Use boolean indexing to filter the DataFrame for each period.\n",
    "- Use `df.mean()` to calculate the average temperature for each period.\n",
    "- Use `plt.bar` to create the bar chart."
   ]
  },
  {
   "cell_type": "code",
   "execution_count": 36,
   "metadata": {
    "collapsed": true,
    "jupyter": {
     "outputs_hidden": true
    }
   },
   "outputs": [
    {
     "data": {
      "text/html": [
       "<div>\n",
       "<style scoped>\n",
       "    .dataframe tbody tr th:only-of-type {\n",
       "        vertical-align: middle;\n",
       "    }\n",
       "\n",
       "    .dataframe tbody tr th {\n",
       "        vertical-align: top;\n",
       "    }\n",
       "\n",
       "    .dataframe thead th {\n",
       "        text-align: right;\n",
       "    }\n",
       "</style>\n",
       "<table border=\"1\" class=\"dataframe\">\n",
       "  <thead>\n",
       "    <tr style=\"text-align: right;\">\n",
       "      <th></th>\n",
       "      <th>Year</th>\n",
       "      <th>Month</th>\n",
       "      <th>Monthly Average</th>\n",
       "      <th>Monthly Anomaly Uncertainty</th>\n",
       "      <th>Day</th>\n",
       "      <th>Date</th>\n",
       "    </tr>\n",
       "  </thead>\n",
       "  <tbody>\n",
       "    <tr>\n",
       "      <th>1800</th>\n",
       "      <td>2000</td>\n",
       "      <td>1</td>\n",
       "      <td>12.570</td>\n",
       "      <td>0.036</td>\n",
       "      <td>1</td>\n",
       "      <td>2000-01-01</td>\n",
       "    </tr>\n",
       "    <tr>\n",
       "      <th>1801</th>\n",
       "      <td>2000</td>\n",
       "      <td>2</td>\n",
       "      <td>13.037</td>\n",
       "      <td>0.041</td>\n",
       "      <td>1</td>\n",
       "      <td>2000-02-01</td>\n",
       "    </tr>\n",
       "    <tr>\n",
       "      <th>1802</th>\n",
       "      <td>2000</td>\n",
       "      <td>3</td>\n",
       "      <td>13.629</td>\n",
       "      <td>0.037</td>\n",
       "      <td>1</td>\n",
       "      <td>2000-03-01</td>\n",
       "    </tr>\n",
       "    <tr>\n",
       "      <th>1803</th>\n",
       "      <td>2000</td>\n",
       "      <td>4</td>\n",
       "      <td>14.621</td>\n",
       "      <td>0.038</td>\n",
       "      <td>1</td>\n",
       "      <td>2000-04-01</td>\n",
       "    </tr>\n",
       "    <tr>\n",
       "      <th>1804</th>\n",
       "      <td>2000</td>\n",
       "      <td>5</td>\n",
       "      <td>15.372</td>\n",
       "      <td>0.036</td>\n",
       "      <td>1</td>\n",
       "      <td>2000-05-01</td>\n",
       "    </tr>\n",
       "  </tbody>\n",
       "</table>\n",
       "</div>"
      ],
      "text/plain": [
       "      Year  Month  Monthly Average  Monthly Anomaly Uncertainty  Day  \\\n",
       "1800  2000      1           12.570                        0.036    1   \n",
       "1801  2000      2           13.037                        0.041    1   \n",
       "1802  2000      3           13.629                        0.037    1   \n",
       "1803  2000      4           14.621                        0.038    1   \n",
       "1804  2000      5           15.372                        0.036    1   \n",
       "\n",
       "           Date  \n",
       "1800 2000-01-01  \n",
       "1801 2000-02-01  \n",
       "1802 2000-03-01  \n",
       "1803 2000-04-01  \n",
       "1804 2000-05-01  "
      ]
     },
     "execution_count": 36,
     "metadata": {},
     "output_type": "execute_result"
    }
   ],
   "source": [
    "df_first_twenty_years = df[df['Year']<=1869]\n",
    "df_first_twenty_years.head()\n",
    "\n",
    "df_second_twenty_years = df[(df['Year']<=1969) & (df['Year']>=1950)]\n",
    "df_second_twenty_years\n",
    "\n",
    "df_third_twenty_years = df[(df['Year']<=2019) & (df['Year']>=2000)] \n",
    "df_third_twenty_years.head()"
   ]
  },
  {
   "cell_type": "code",
   "execution_count": null,
   "metadata": {},
   "outputs": [],
   "source": []
  },
  {
   "cell_type": "code",
   "execution_count": null,
   "metadata": {},
   "outputs": [],
   "source": [
    "(df_first_twenty_years['Date'], df_first_twenty_years['Monthly Average'])\n",
    "df.plot(x='Date', y='Monthly Average', kind=bar\n",
    "plt.title('Date vs. Monthly Average')\n",
    "plt.xlabel('Date')\n",
    "plt.ylabel('Monthly Average')\n",
    "\n"
   ]
  },
  {
   "cell_type": "code",
   "execution_count": null,
   "metadata": {},
   "outputs": [],
   "source": []
  },
  {
   "cell_type": "markdown",
   "metadata": {},
   "source": [
    "## Step 6: Calculating and Plotting Yearly Average Temperature\n",
    "\n",
    "### Task\n",
    "Calculate the yearly average temperature and plot it.\n",
    "\n",
    "### Hints\n",
    "- Use `groupby` to group the data by year.\n",
    "- Calculate the weighted average temperature for each year, considering the number of days in each month.\n",
    "    - `df['Date'].dt.days_in_month` will return the number of days in each month\n",
    "    - you might need to write a function to apply to your grouped data frame!\n",
    "- Plot the yearly average temperatures using `plt.plot`."
   ]
  },
  {
   "cell_type": "code",
   "execution_count": null,
   "metadata": {},
   "outputs": [],
   "source": []
  },
  {
   "cell_type": "markdown",
   "metadata": {},
   "source": [
    "## Step 7: Calculating and Plotting Temperature Anomalies\n",
    "\n",
    "### Task\n",
    "Calculate the seasonal climatology for the period 1951-1980, and then remove it from the entire record to get anomalies. Plot the anomalies.\n",
    "\n",
    "### Hints\n",
    "- Filter the data for the baseline period (1951-1980).\n",
    "- Use `groupby` to calculate the average temperature for each month.\n",
    "- Subtract the monthly average (climatology) from the corresponding months in the entire record.\n",
    "- Plot the anomalies using `plt.plot`."
   ]
  },
  {
   "cell_type": "code",
   "execution_count": null,
   "metadata": {},
   "outputs": [],
   "source": [
    "def "
   ]
  }
 ],
 "metadata": {
  "kernelspec": {
   "display_name": "Python [conda env:base] *",
   "language": "python",
   "name": "conda-base-py"
  },
  "language_info": {
   "codemirror_mode": {
    "name": "ipython",
    "version": 3
   },
   "file_extension": ".py",
   "mimetype": "text/x-python",
   "name": "python",
   "nbconvert_exporter": "python",
   "pygments_lexer": "ipython3",
   "version": "3.12.7"
  }
 },
 "nbformat": 4,
 "nbformat_minor": 4
}

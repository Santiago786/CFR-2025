{
 "cells": [
  {
   "cell_type": "markdown",
   "metadata": {},
   "source": [
    "# Session 3: Conditionals and Loops\n"
   ]
  },
  {
   "cell_type": "markdown",
   "metadata": {},
   "source": [
    "# 1. Conditionals in Python"
   ]
  },
  {
   "cell_type": "markdown",
   "metadata": {},
   "source": [
    "### 1.1 if, elif, else\n",
    "\n",
    "Conditionals allow you to execute certain pieces of code based on conditions.\n",
    "\n",
    "**Syntax:**\n"
   ]
  },
  {
   "cell_type": "markdown",
   "metadata": {},
   "source": [
    "```python\n",
    "if condition:\n",
    "    # code to execute if condition is true\n",
    "elif another_condition:\n",
    "    # code to execute if another_condition is true\n",
    "else:\n",
    "    # code to execute if none of the above conditions are true\n"
   ]
  },
  {
   "cell_type": "markdown",
   "metadata": {},
   "source": [
    "### Practice Problem 1: Pass/Fail\n",
    "\n",
    "The variable `score` is a random number between 0 and 100. If the score is below 50, print 'Fail', otherwise print 'Pass'. "
   ]
  },
  {
   "cell_type": "code",
   "execution_count": 4,
   "metadata": {},
   "outputs": [
    {
     "name": "stdout",
     "output_type": "stream",
     "text": [
      "58\n"
     ]
    }
   ],
   "source": [
    "# Run this before running your solution\n",
    "import random\n",
    "score = random.randint(0,100)\n",
    "\n",
    "print(score)"
   ]
  },
  {
   "cell_type": "markdown",
   "metadata": {},
   "source": [
    "**Solution:**"
   ]
  },
  {
   "cell_type": "code",
<<<<<<< HEAD
   "execution_count": 5,
=======
   "execution_count": 6,
>>>>>>> upstream/main
   "metadata": {},
   "outputs": [
    {
     "name": "stdout",
     "output_type": "stream",
     "text": [
<<<<<<< HEAD
      "pass\n"
=======
      "Fail\n"
>>>>>>> upstream/main
     ]
    }
   ],
   "source": [
<<<<<<< HEAD
    "score= 100\n",
    "if score < 50:\n",
    "    print ('fail')\n",
    "else:\n",
    "    print ('pass')\n",
    "          "
=======
    "score = 10\n",
    "if score < 50:\n",
    "    print('Fail')\n",
    "else:\n",
    "    print('Pass')"
   ]
  },
  {
   "cell_type": "code",
   "execution_count": 11,
   "metadata": {},
   "outputs": [
    {
     "name": "stdout",
     "output_type": "stream",
     "text": [
      "x is 3\n"
     ]
    }
   ],
   "source": [
    "# check if a number is equal\n",
    "\n",
    "x = 3\n",
    "\n",
    "if x==3:\n",
    "    print('x is 3')\n",
    "else:\n",
    "    print('x is not 3')"
>>>>>>> upstream/main
   ]
  },
  {
   "cell_type": "markdown",
   "metadata": {},
   "source": [
    "### Practice Problem 2: Even and Odd numbers\n",
    "\n",
    "Determine if random number `x` is even or odd.\n",
    "\n",
    "Hint: The modulus operator `%` gives you the remainder of a division operation. For example, 3%2 = 1 and 4%2 = 0."
   ]
  },
  {
   "cell_type": "code",
   "execution_count": 6,
   "metadata": {},
   "outputs": [
    {
     "name": "stdout",
     "output_type": "stream",
     "text": [
      "44\n"
     ]
    }
   ],
   "source": [
    "# Run this before running your solution\n",
    "import random\n",
    "x = random.randint(0,100)\n",
    "\n",
    "print(x)"
   ]
  },
  {
   "cell_type": "code",
   "execution_count": 10,
   "metadata": {},
   "outputs": [
    {
     "name": "stdout",
     "output_type": "stream",
     "text": [
      "odd\n"
     ]
    }
   ],
   "source": [
    "solution=43\n",
    "if solution %2==0:\n",
    "    print('even')\n",
    "else:\n",
    "    print('odd')\n"
   ]
  },
  {
   "cell_type": "code",
   "execution_count": 8,
   "metadata": {},
   "outputs": [
    {
     "data": {
      "text/plain": [
       "0"
      ]
     },
     "execution_count": 8,
     "metadata": {},
     "output_type": "execute_result"
    }
   ],
   "source": [
    "if x%2 == 0:\n",
    "    print('even')\n",
    "else:"
   ]
  },
  {
   "cell_type": "markdown",
   "metadata": {},
   "source": [
    "### Practice Problem 3: \n",
    "Suppose the variables `r` and `p` store numbers. Using an if … else statement, write Python code that sets the variable `m` to the smaller of `r` and `p` (naturally, if `r` and `p` are equal, `m` should be set equal to this common value).\n"
   ]
  },
  {
   "cell_type": "code",
   "execution_count": 17,
   "metadata": {},
   "outputs": [
    {
     "data": {
      "text/plain": [
       "3"
      ]
     },
     "execution_count": 17,
     "metadata": {},
     "output_type": "execute_result"
    }
   ],
   "source": [
    "r=3\n",
    "r"
   ]
  },
  {
   "cell_type": "code",
   "execution_count": 18,
   "metadata": {},
   "outputs": [
    {
     "data": {
      "text/plain": [
       "3"
      ]
     },
     "execution_count": 18,
     "metadata": {},
     "output_type": "execute_result"
    }
   ],
   "source": [
    "p=3\n",
    "p"
   ]
  },
  {
   "cell_type": "code",
   "execution_count": 19,
   "metadata": {},
   "outputs": [
    {
     "name": "stdout",
     "output_type": "stream",
     "text": [
      "3\n"
     ]
    }
   ],
   "source": [
    "if r > p:\n",
    "    m=p\n",
    "    print(m)\n",
    "else:\n",
    "    m=r\n",
    "    print(m)"
   ]
  },
  {
   "cell_type": "markdown",
   "metadata": {},
   "source": [
    "## 2. While Loops\n",
    "The while loop repeats as long as a condition is true.\n",
    "\n",
    "**Syntax:**\n",
    "\n",
    "```python\n",
    "while condition:\n",
    "    # code to execute while the condition is true"
   ]
  },
  {
   "cell_type": "markdown",
   "metadata": {},
   "source": [
    "### Practice Problem 1\n",
    "Write a loop that counts down from 5 to 1. (It should print 5, then 4, then 3, then 2, then 1.)"
   ]
  },
  {
   "cell_type": "code",
   "execution_count": 2,
   "metadata": {},
   "outputs": [
    {
     "name": "stdout",
     "output_type": "stream",
     "text": [
      "5\n",
      "4\n",
      "3\n",
      "2\n",
      "1\n"
     ]
    }
   ],
   "source": [
    "countdown=5\n",
    "while countdown >= 1:\n",
    "    print (countdown)\n",
    "    countdown = countdown -1"
   ]
  },
  {
   "cell_type": "markdown",
   "metadata": {},
   "source": [
    "### Practice Problem 2: Guess a random number\n",
    "`num` is a random integer between 0 and 10. Define a variable `guess=5` and write a loop that compares the guess with `num` and increases it by 1 if the guess is too low, or decreases it by 1 if the guess is too high until the guess is equal to `num`."
   ]
  },
  {
   "cell_type": "code",
<<<<<<< HEAD
   "execution_count": 6,
=======
   "execution_count": 1,
>>>>>>> upstream/main
   "metadata": {},
   "outputs": [
    {
     "name": "stdout",
     "output_type": "stream",
     "text": [
      "9\n"
     ]
    }
   ],
   "source": [
    "# Run this before running your solution\n",
    "import random\n",
    "num = random.randint(0,10)\n",
    "print(num)"
   ]
  },
  {
   "cell_type": "markdown",
   "metadata": {},
   "source": [
    "### Solution"
   ]
  },
  {
   "cell_type": "code",
   "execution_count": 7,
   "metadata": {},
   "outputs": [
    {
     "name": "stdout",
     "output_type": "stream",
     "text": [
      "5\n",
      "6\n",
      "6\n",
      "7\n",
      "7\n",
      "8\n",
      "8\n",
      "9\n"
     ]
    }
   ],
   "source": [
    "Guess = 5\n",
    "\n",
    "while Guess != num:\n",
    "    print(Guess)\n",
    "    if Guess < num:\n",
    "        Guess += 1\n",
    "    else:\n",
    "        Guess -= 1\n",
    "    print(Guess)\n",
    "    \n"
   ]
  },
  {
   "cell_type": "markdown",
   "metadata": {},
   "source": [
    "# Bonus Problem 1: Find the values of a, b, and c after the following code is run (without running the code!)\n",
    "![Bonus-Problem](If-while-bonus.jpeg)"
   ]
  },
  {
   "cell_type": "markdown",
   "metadata": {},
   "source": [
    "### Solution:"
   ]
  },
  {
   "cell_type": "code",
   "execution_count": null,
   "metadata": {},
   "outputs": [],
   "source": []
  }
 ],
 "metadata": {
  "kernelspec": {
   "display_name": "Python [conda env:base] *",
   "language": "python",
   "name": "conda-base-py"
  },
  "language_info": {
   "codemirror_mode": {
    "name": "ipython",
    "version": 3
   },
   "file_extension": ".py",
   "mimetype": "text/x-python",
   "name": "python",
   "nbconvert_exporter": "python",
   "pygments_lexer": "ipython3",
   "version": "3.12.7"
  }
 },
 "nbformat": 4,
 "nbformat_minor": 4
}

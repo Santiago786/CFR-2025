{
 "cells": [
  {
   "cell_type": "code",
   "execution_count": 1,
   "id": "6bc749f8-4252-4e0c-81cf-a4e23e6f3423",
   "metadata": {},
   "outputs": [],
   "source": [
    "def grocery_cost(num_apples, num_oranges):\n",
    "    price_apples=3\n",
    "    cost_apples = num_apples * price_apples\n",
    "\n",
    "    price_oranges=2\n",
    "    cost_oranges = num_oranges * price_oranges\n",
    "\n",
    "    total_cost = cost_apples + cost_oranges\n",
    "    return total_cost\n"
   ]
  },
  {
   "cell_type": "code",
   "execution_count": 5,
   "id": "cd5d0fac-7320-43e0-821f-bb13d8c14e05",
   "metadata": {},
   "outputs": [
    {
     "name": "stdout",
     "output_type": "stream",
     "text": [
      "102\n"
     ]
    }
   ],
   "source": [
    "  Na_eem = grocery_cost(24,15)\n",
    "print(Na_eem) \n"
   ]
  },
  {
   "cell_type": "code",
   "execution_count": 8,
   "id": "42682c0f-2761-4ae7-8758-9e42ed43f444",
   "metadata": {},
   "outputs": [],
   "source": [
    "def orchard(price_strawberries, price_cherries,weight_strawberries, weight_cherries):\n",
    "    cost_strawberries = price_strawberries * weight_strawberries\n",
    "    cost_cherries = price_cherries * weight_cherries\n",
    "    total_cost = cost_strawberries + cost_cherries\n",
    "    return total_cost"
   ]
  },
  {
   "cell_type": "code",
   "execution_count": 9,
   "id": "8e55d7a0-1f23-428e-b557-f327efb82ef5",
   "metadata": {},
   "outputs": [
    {
     "name": "stdout",
     "output_type": "stream",
     "text": [
      "24\n"
     ]
    }
   ],
   "source": [
    "Na_eem = orchard(3,5,3,3)\n",
    "print(Na_eem)"
   ]
  },
  {
   "cell_type": "code",
   "execution_count": 17,
   "id": "f36ba4ac-eff5-472e-a557-4c2d5ef89045",
   "metadata": {},
   "outputs": [
    {
     "name": "stdout",
     "output_type": "stream",
     "text": [
      "89\n",
      "58\n",
      "65\n",
      "212\n"
     ]
    }
   ],
   "source": [
    "Na_eem = orchard(7,10,7,4)\n",
    "print(Na_eem)\n",
    "\n",
    "Gabby = orchard(7,10,4,3)\n",
    "print(Gabby)\n",
    "\n",
    "Omar = orchard(7,10,5,3)\n",
    "print(Omar)\n",
    "\n",
    "Chris_has_to_pay = Na_eem + Gabby + Omar\n",
    "print (Chris_has_to_pay)"
   ]
  },
  {
   "cell_type": "code",
   "execution_count": 26,
   "id": "8ebbe884-1c9a-4158-9ee3-59c095490fd7",
   "metadata": {},
   "outputs": [
    {
     "name": "stdout",
     "output_type": "stream",
     "text": [
      "89\n",
      "122\n",
      "102\n",
      "32\n",
      "138\n",
      "15\n",
      "90\n",
      "588\n"
     ]
    }
   ],
   "source": [
    "Terhune_Na_eem = orchard(7,10,7,4)\n",
    "Terhune_Rich = orchard(7,10, 6,8)\n",
    "print(Terhune_Na_eem,)\n",
    "print(Terhune_Rich)\n",
    "\n",
    "Cherry_Grove_Belle = orchard(5,11,5,7)\n",
    "Cherry_Grove_W = orchard(5,11,2,2)\n",
    "print(Cherry_Grove_Belle)\n",
    "print(Cherry_Grove_W)\n",
    "\n",
    "Fruitwood_Gabby = orchard(3,9,10,12)\n",
    "Fruitwood_Ananya = orchard(3,9,5,0)\n",
    "Fruitwood_Amel = orchard(3,9,0,10)\n",
    "\n",
    "print(Fruitwood_Gabby)\n",
    "print(Fruitwood_Ananya)\n",
    "print(Fruitwood_Amel)\n",
    "\n",
    "chris_has_to_pay = Terhune_Na_eem + Terhune_Rich + Cherry_Grove_Belle + Cherry_Grove_W + Fruitwood_Gabby + Fruitwood_Ananya + Fruitwood_Amel\n",
    "print(chris_has_to_pay)"
   ]
  },
  {
   "cell_type": "code",
   "execution_count": null,
   "id": "547aaa96-fe79-48f2-8f9e-dd72dbacb846",
   "metadata": {},
   "outputs": [],
   "source": []
  }
 ],
 "metadata": {
  "kernelspec": {
   "display_name": "Python [conda env:base] *",
   "language": "python",
   "name": "conda-base-py"
  },
  "language_info": {
   "codemirror_mode": {
    "name": "ipython",
    "version": 3
   },
   "file_extension": ".py",
   "mimetype": "text/x-python",
   "name": "python",
   "nbconvert_exporter": "python",
   "pygments_lexer": "ipython3",
   "version": "3.12.7"
  }
 },
 "nbformat": 4,
 "nbformat_minor": 5
}

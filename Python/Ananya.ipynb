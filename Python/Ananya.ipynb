{
 "cells": [
  {
   "cell_type": "code",
   "execution_count": 7,
   "id": "6968d8d1-46cf-4340-a7ed-3ef225a0a8bb",
   "metadata": {},
   "outputs": [],
   "source": [
    "def lunch(price_falafel,amount_falafel,\n",
    "          price_soup,amount_soup,\n",
    "          price_pita,amount_pita,):\n",
    "\n",
    "\n",
    "    cost_falafel = price_falafel * amount_falafel\n",
    "\n",
    "    cost_soup = price_soup * amount_soup\n",
    "\n",
    "    cost_pita = price_pita * amount_pita\n",
    "\n",
    "    total_cost = cost_falafel + cost_soup + cost_pita\n",
    "    \n",
    "    return total_cost\n",
    "    "
   ]
  },
  {
   "cell_type": "code",
   "execution_count": 8,
   "id": "5f3c3b8a-b557-45dc-8921-5afff37fb61e",
   "metadata": {},
   "outputs": [
    {
     "name": "stdout",
     "output_type": "stream",
     "text": [
      "36\n"
     ]
    }
   ],
   "source": [
    "Darius = lunch(3,2,2,2,1,1)\n",
    "Belle = lunch(3,1,2,1,1,4)\n",
    "Amel = lunch(3,3,2,2,1,3)\n",
    "\n",
    "total_cost = Darius + Belle + Amel\n",
    "print (total_cost)"
   ]
  },
  {
   "cell_type": "code",
   "execution_count": null,
   "id": "62105dbc-005f-43c2-85a1-c72c8ba108ca",
   "metadata": {
    "jupyter": {
     "source_hidden": true
    }
   },
   "outputs": [],
   "source": [
    "def celsius_to_fahrenheit(celsius):\n",
    "    return celsius * 9 / 5 + 32\n",
    "\n",
    "print(celsius_to_fahrenheit(0))    # Output: 32.0\n",
    "print(celsius_to_fahrenheit(100))  # Output: 212.0\n"
   ]
  },
  {
   "cell_type": "code",
   "execution_count": 11,
   "id": "02c12690-3c8a-4830-b380-f83a8f36b5a9",
   "metadata": {},
   "outputs": [],
   "source": [
    "def celsius_fahrenheit(celsius):\n",
    " fahrenheit= celsius*9/5+32\n",
    "\n",
    " return fahrenheit\n"
   ]
  },
  {
   "cell_type": "code",
   "execution_count": 28,
   "id": "a7b6420c-24ae-4f71-83e3-f9cc780950f8",
   "metadata": {},
   "outputs": [
    {
     "name": "stdout",
     "output_type": "stream",
     "text": [
      "86.0\n"
     ]
    }
   ],
   "source": [
    "fahrenheit=celsius_fahrenheit(30)\n",
    "print (fahrenheit)"
   ]
  },
  {
   "cell_type": "code",
   "execution_count": 29,
   "id": "643624e9-8ab8-49b0-9091-e222cd09e91c",
   "metadata": {},
   "outputs": [],
   "source": [
    "def fahrenheit_celsius(fahrenheit):\n",
    "    celsius = (fahrenheit-32) * 5/9\n",
    "    return celsius"
   ]
  },
  {
   "cell_type": "code",
   "execution_count": 31,
   "id": "81a2decb-274a-417f-a8d1-678046720d75",
   "metadata": {},
   "outputs": [
    {
     "name": "stdout",
     "output_type": "stream",
     "text": [
      "37.77777777777778\n"
     ]
    }
   ],
   "source": [
    "celsius = fahrenheit_celsius(100) \n",
    "print (celsius)"
   ]
  },
  {
   "cell_type": "code",
   "execution_count": 32,
   "id": "d7bdc2ca-d88a-4963-ac23-302c5138d89e",
   "metadata": {},
   "outputs": [],
   "source": [
    "import numpy as np"
   ]
  },
  {
   "cell_type": "code",
   "execution_count": 34,
   "id": "9101ce16-4729-4d31-95bf-f09caa86d48e",
   "metadata": {},
   "outputs": [
    {
     "name": "stdout",
     "output_type": "stream",
     "text": [
      "[200 700 100 800 200]\n"
     ]
    }
   ],
   "source": [
    "cost_array = np.array([300,700,100,800,200])\n",
    "cost_array[0] = cost_array[0] - 100\n",
    "print (cost_array)"
   ]
  },
  {
   "cell_type": "code",
   "execution_count": 35,
   "id": "1fda4dda-5bef-446c-a847-bd4690ec2294",
   "metadata": {},
   "outputs": [
    {
     "name": "stdout",
     "output_type": "stream",
     "text": [
      "[300 600 100 800 200]\n"
     ]
    }
   ],
   "source": [
    "cost_array = np.array([300,700,100,800,200])\n",
    "cost_array[1] = cost_array[1] - 100\n",
    "print (cost_array)"
   ]
  },
  {
   "cell_type": "code",
   "execution_count": 36,
   "id": "b8a80958-7492-4e64-b027-5f9e374e170b",
   "metadata": {},
   "outputs": [
    {
     "name": "stdout",
     "output_type": "stream",
     "text": [
      "[300 700   0 800 200]\n"
     ]
    }
   ],
   "source": [
    "cost_array = np.array([300,700,100,800,200])\n",
    "cost_array[2] = cost_array[2] - 100\n",
    "print (cost_array)"
   ]
  },
  {
   "cell_type": "code",
   "execution_count": 37,
   "id": "2faf364b-534e-4987-9a2d-2f17a0735db8",
   "metadata": {},
   "outputs": [
    {
     "name": "stdout",
     "output_type": "stream",
     "text": [
      "[300 700 100 700 200]\n"
     ]
    }
   ],
   "source": [
    "cost_array = np.array([300,700,100,800,200])\n",
    "cost_array[3] = cost_array[3] - 100\n",
    "print (cost_array)"
   ]
  },
  {
   "cell_type": "code",
   "execution_count": 38,
   "id": "ea00d95f-1f75-4e57-9aa0-8bbd7f080a86",
   "metadata": {},
   "outputs": [
    {
     "name": "stdout",
     "output_type": "stream",
     "text": [
      "[300 700 100 800 100]\n"
     ]
    }
   ],
   "source": [
    "cost_array = np.array([300,700,100,800,200])\n",
    "cost_array[4] = cost_array[4] - 100\n",
    "print (cost_array)"
   ]
  },
  {
   "cell_type": "code",
   "execution_count": 39,
   "id": "f818e282-fa12-4db4-9161-fc686fa91ac5",
   "metadata": {},
   "outputs": [
    {
     "name": "stdout",
     "output_type": "stream",
     "text": [
      "[250 650  50 750 150]\n"
     ]
    }
   ],
   "source": [
    "cost_array = np.array([300,700,100,800,200])\n",
    "cost_array[:5] = cost_array[:5] - 50\n",
    "print (cost_array)"
   ]
  },
  {
   "cell_type": "code",
   "execution_count": 48,
   "id": "5c3e7646-aef1-4f25-880d-760cfca29000",
   "metadata": {},
   "outputs": [
    {
     "name": "stdout",
     "output_type": "stream",
     "text": [
      "300\n",
      "250\n",
      "700\n",
      "650\n",
      "100\n",
      "50\n",
      "800\n",
      "750\n",
      "200\n",
      "150\n"
     ]
    }
   ],
   "source": [
    "cost_array = [300,700,100,800,200]\n",
    "for i in cost_array:\n",
    "    print(i)\n",
    "    \n",
    "    \n",
    "    print(i-50)"
   ]
  },
  {
   "cell_type": "code",
   "execution_count": 47,
   "id": "57378c84-99fd-4241-b009-9094ce4226ee",
   "metadata": {},
   "outputs": [
    {
     "name": "stdout",
     "output_type": "stream",
     "text": [
      "100\n"
     ]
    }
   ],
   "source": [
    "cost_array = np.array([300,700,100,800,200])\n",
    "cost_array[0] = cost_array[0] - 100\n",
    "print (i-50)"
   ]
  },
  {
   "cell_type": "code",
   "execution_count": null,
   "id": "0ae9bc7a-6550-4b5c-806d-ad34016aa700",
   "metadata": {},
   "outputs": [],
   "source": []
  }
 ],
 "metadata": {
  "kernelspec": {
   "display_name": "Python [conda env:base] *",
   "language": "python",
   "name": "conda-base-py"
  },
  "language_info": {
   "codemirror_mode": {
    "name": "ipython",
    "version": 3
   },
   "file_extension": ".py",
   "mimetype": "text/x-python",
   "name": "python",
   "nbconvert_exporter": "python",
   "pygments_lexer": "ipython3",
   "version": "3.12.7"
  }
 },
 "nbformat": 4,
 "nbformat_minor": 5
}

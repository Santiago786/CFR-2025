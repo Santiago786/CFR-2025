{
 "cells": [
  {
   "cell_type": "markdown",
   "metadata": {},
   "source": [
    "# Session 4: Functions\n"
   ]
  },
  {
   "cell_type": "markdown",
   "metadata": {},
   "source": [
    "## Part 1: Introduction to Functions "
   ]
  },
  {
   "cell_type": "markdown",
   "metadata": {},
   "source": [
    "### Example: Calculating Area of a Rectangle (do together)"
   ]
  },
  {
   "cell_type": "code",
   "execution_count": 4,
   "metadata": {},
   "outputs": [
    {
     "name": "stdout",
     "output_type": "stream",
     "text": [
      "20\n"
     ]
    }
   ],
   "source": [
    "length = 5\n",
    "width = 4\n",
    "area = length * width\n",
    "print(area)\n",
    "\n",
    "def rectangle_area(length, width):\n",
    "    area+ length * width\n",
    "   \n",
    "    return area\n",
    "    rec_area + area(length, width)\n",
    "    print(area)"
   ]
  },
  {
   "cell_type": "code",
   "execution_count": 5,
   "metadata": {},
   "outputs": [
    {
     "name": "stdout",
     "output_type": "stream",
     "text": [
      "20\n"
     ]
    }
   ],
   "source": [
    "l = 6\n",
    "w = 7\n",
    "\n",
    "a = rectangle_area(l,w)\n",
    "print(a)"
   ]
  },
  {
   "cell_type": "markdown",
   "metadata": {},
   "source": [
    "### Problem 1: Celsius to Fahrenheit Converter\n",
    "Write a function `celsius_to_fahrenheit` that converts Celsius to Fahrenheit.\n",
    "Formula: \n",
    "$F = C \\times \\frac{9}{5} + 32$\n",
    "\n",
    "#### Solution:\n"
   ]
  },
  {
   "cell_type": "code",
   "execution_count": 10,
   "metadata": {},
   "outputs": [],
   "source": [
    "def celsius_farenheit(temperature_in_celsius):\n",
    "    temperature_in_F = temperature_in_celsius * (9/5) + 32\n",
    "    return temperature_in_F\n",
    "\n"
   ]
  },
  {
   "cell_type": "markdown",
   "metadata": {},
   "source": [
    "### Problem 2: Calculate Average\n",
    "Write a function `average` that takes three numbers and returns the average.\n",
    "\n",
    "#### Solution:\n"
   ]
  },
  {
   "cell_type": "code",
   "execution_count": null,
   "metadata": {},
   "outputs": [],
   "source": [
    "def average_function(a,b,c):\n",
    "    average = (a + b + c)/3\n",
    "    return average\n",
    "    num = 5\n",
    "    num = 3\n",
    "    num = 7\n",
    "\n",
    "average = average_function(num1,num2,num3)\n",
    "print (average)"
   ]
  },
  {
   "cell_type": "markdown",
   "metadata": {},
   "source": [
    "### Problem 3: Max of two numbers\n",
    "Write a function that takes two numbers and return the larger of them.\n",
    "\n",
    "#### Solution:"
   ]
  },
  {
   "cell_type": "code",
   "execution_count": 8,
   "metadata": {},
   "outputs": [
    {
     "name": "stdout",
     "output_type": "stream",
     "text": [
      "7\n"
     ]
    }
   ],
   "source": [
    "def greater_than(imput1,imput2):\n",
    "    if imput1 < imput2:\n",
    "        return imput2\n",
    "    else: \n",
    "        return imput1\n",
    "\n",
    "imput1 = 5\n",
    "imput2 = 7\n",
    "greater_than = greater_than(imput1,imput2)\n",
    "print (greater_than)\n",
    "\n"
   ]
  },
  {
   "cell_type": "markdown",
   "metadata": {},
   "source": [
    "## Part 4: Function Scope and Best Practices (30 minutes)"
   ]
  },
  {
   "cell_type": "markdown",
   "metadata": {},
   "source": [
    "## Problem 4: Convert and compare temperatures\n",
    "Write code that takes two variables, `temp_in_celsius` and `temp_in_fahrenheit`, and tells you which one is hotter.\n",
    "\n",
    "Hint: You can use the functions you defined earlier.\n",
    "\n",
    "### Solution:"
   ]
  },
  {
   "cell_type": "code",
   "execution_count": 15,
   "metadata": {},
   "outputs": [],
   "source": [
    "temperature_in_celsius = 30\n",
    "\n",
    "temp_in_fahrenheit = celsius_farenheit(temperature_in_celsius)\n",
    "\n",
    "\n"
   ]
  },
  {
   "cell_type": "markdown",
   "metadata": {},
   "source": [
    "## Conclusion and Q&A (10 minutes)\n",
    "- Review the key concepts covered: defining functions, parameters, return values, scope, and best practices.\n",
    "- Encourage practice and experimentation.\n",
    "- Open the floor for any questions and further clarifications.\n"
   ]
  },
  {
   "cell_type": "markdown",
   "metadata": {},
   "source": []
  }
 ],
 "metadata": {
  "kernelspec": {
   "display_name": "Python [conda env:base] *",
   "language": "python",
   "name": "conda-base-py"
  },
  "language_info": {
   "codemirror_mode": {
    "name": "ipython",
    "version": 3
   },
   "file_extension": ".py",
   "mimetype": "text/x-python",
   "name": "python",
   "nbconvert_exporter": "python",
   "pygments_lexer": "ipython3",
   "version": "3.12.7"
  }
 },
 "nbformat": 4,
 "nbformat_minor": 4
}

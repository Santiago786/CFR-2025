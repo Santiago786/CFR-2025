{
 "cells": [
  {
   "cell_type": "code",
   "execution_count": 2,
   "metadata": {},
   "outputs": [],
   "source": [
    "# copy and paste your lines of code from the previous notebook where you read in the data\n",
    "import pandas as pd \n",
    "data = pd.read_csv('../Data/gaia_stars.csv')\n"
   ]
  },
  {
   "cell_type": "code",
   "execution_count": 3,
   "metadata": {
    "scrolled": true
   },
   "outputs": [
    {
     "data": {
      "text/html": [
       "<div>\n",
       "<style scoped>\n",
       "    .dataframe tbody tr th:only-of-type {\n",
       "        vertical-align: middle;\n",
       "    }\n",
       "\n",
       "    .dataframe tbody tr th {\n",
       "        vertical-align: top;\n",
       "    }\n",
       "\n",
       "    .dataframe thead th {\n",
       "        text-align: right;\n",
       "    }\n",
       "</style>\n",
       "<table border=\"1\" class=\"dataframe\">\n",
       "  <thead>\n",
       "    <tr style=\"text-align: right;\">\n",
       "      <th></th>\n",
       "      <th>Star ID</th>\n",
       "      <th>Mass [Solar Mass]</th>\n",
       "      <th>Radius [Solar Radius]</th>\n",
       "      <th>g band</th>\n",
       "      <th>r band</th>\n",
       "      <th>Temperature [K]</th>\n",
       "      <th>Age [Gyr]</th>\n",
       "    </tr>\n",
       "  </thead>\n",
       "  <tbody>\n",
       "    <tr>\n",
       "      <th>0</th>\n",
       "      <td>5164707970261890560</td>\n",
       "      <td>0.811199</td>\n",
       "      <td>0.776116</td>\n",
       "      <td>3.465752</td>\n",
       "      <td>2.842150</td>\n",
       "      <td>5002.0435</td>\n",
       "      <td>7.304041</td>\n",
       "    </tr>\n",
       "    <tr>\n",
       "      <th>1</th>\n",
       "      <td>6412595290592307840</td>\n",
       "      <td>0.739232</td>\n",
       "      <td>0.763127</td>\n",
       "      <td>4.322904</td>\n",
       "      <td>3.610557</td>\n",
       "      <td>4560.3030</td>\n",
       "      <td>10.487599</td>\n",
       "    </tr>\n",
       "    <tr>\n",
       "      <th>2</th>\n",
       "      <td>4468557611984384512</td>\n",
       "      <td>0.825646</td>\n",
       "      <td>0.881947</td>\n",
       "      <td>3.987364</td>\n",
       "      <td>3.405753</td>\n",
       "      <td>5204.6360</td>\n",
       "      <td>13.452476</td>\n",
       "    </tr>\n",
       "    <tr>\n",
       "      <th>3</th>\n",
       "      <td>2261614264931057664</td>\n",
       "      <td>0.828676</td>\n",
       "      <td>0.826463</td>\n",
       "      <td>4.449041</td>\n",
       "      <td>3.865173</td>\n",
       "      <td>5153.2470</td>\n",
       "      <td>9.933178</td>\n",
       "    </tr>\n",
       "    <tr>\n",
       "      <th>4</th>\n",
       "      <td>425040000962559616</td>\n",
       "      <td>0.960048</td>\n",
       "      <td>1.143422</td>\n",
       "      <td>3.320067</td>\n",
       "      <td>2.848621</td>\n",
       "      <td>5726.0100</td>\n",
       "      <td>10.061203</td>\n",
       "    </tr>\n",
       "    <tr>\n",
       "      <th>...</th>\n",
       "      <td>...</td>\n",
       "      <td>...</td>\n",
       "      <td>...</td>\n",
       "      <td>...</td>\n",
       "      <td>...</td>\n",
       "      <td>...</td>\n",
       "      <td>...</td>\n",
       "    </tr>\n",
       "    <tr>\n",
       "      <th>40729</th>\n",
       "      <td>401012338992091520</td>\n",
       "      <td>1.365681</td>\n",
       "      <td>1.807146</td>\n",
       "      <td>7.985641</td>\n",
       "      <td>7.585364</td>\n",
       "      <td>6355.3740</td>\n",
       "      <td>2.754495</td>\n",
       "    </tr>\n",
       "    <tr>\n",
       "      <th>40730</th>\n",
       "      <td>5995090693823761792</td>\n",
       "      <td>0.799427</td>\n",
       "      <td>0.861230</td>\n",
       "      <td>10.933929</td>\n",
       "      <td>10.193683</td>\n",
       "      <td>4874.3160</td>\n",
       "      <td>13.440605</td>\n",
       "    </tr>\n",
       "    <tr>\n",
       "      <th>40731</th>\n",
       "      <td>5280799218287640448</td>\n",
       "      <td>3.302371</td>\n",
       "      <td>20.616924</td>\n",
       "      <td>4.714031</td>\n",
       "      <td>3.897656</td>\n",
       "      <td>4434.1780</td>\n",
       "      <td>0.292429</td>\n",
       "    </tr>\n",
       "    <tr>\n",
       "      <th>40732</th>\n",
       "      <td>6234448087335108096</td>\n",
       "      <td>0.551528</td>\n",
       "      <td>0.535636</td>\n",
       "      <td>13.842442</td>\n",
       "      <td>12.811961</td>\n",
       "      <td>3817.4430</td>\n",
       "      <td>13.327753</td>\n",
       "    </tr>\n",
       "    <tr>\n",
       "      <th>40733</th>\n",
       "      <td>4042240322113439104</td>\n",
       "      <td>0.711171</td>\n",
       "      <td>0.678837</td>\n",
       "      <td>12.296755</td>\n",
       "      <td>11.426275</td>\n",
       "      <td>4431.2170</td>\n",
       "      <td>7.020477</td>\n",
       "    </tr>\n",
       "  </tbody>\n",
       "</table>\n",
       "<p>40734 rows × 7 columns</p>\n",
       "</div>"
      ],
      "text/plain": [
       "                   Star ID  Mass [Solar Mass]  Radius [Solar Radius]  \\\n",
       "0      5164707970261890560           0.811199               0.776116   \n",
       "1      6412595290592307840           0.739232               0.763127   \n",
       "2      4468557611984384512           0.825646               0.881947   \n",
       "3      2261614264931057664           0.828676               0.826463   \n",
       "4       425040000962559616           0.960048               1.143422   \n",
       "...                    ...                ...                    ...   \n",
       "40729   401012338992091520           1.365681               1.807146   \n",
       "40730  5995090693823761792           0.799427               0.861230   \n",
       "40731  5280799218287640448           3.302371              20.616924   \n",
       "40732  6234448087335108096           0.551528               0.535636   \n",
       "40733  4042240322113439104           0.711171               0.678837   \n",
       "\n",
       "          g band     r band  Temperature [K]  Age [Gyr]  \n",
       "0       3.465752   2.842150        5002.0435   7.304041  \n",
       "1       4.322904   3.610557        4560.3030  10.487599  \n",
       "2       3.987364   3.405753        5204.6360  13.452476  \n",
       "3       4.449041   3.865173        5153.2470   9.933178  \n",
       "4       3.320067   2.848621        5726.0100  10.061203  \n",
       "...          ...        ...              ...        ...  \n",
       "40729   7.985641   7.585364        6355.3740   2.754495  \n",
       "40730  10.933929  10.193683        4874.3160  13.440605  \n",
       "40731   4.714031   3.897656        4434.1780   0.292429  \n",
       "40732  13.842442  12.811961        3817.4430  13.327753  \n",
       "40733  12.296755  11.426275        4431.2170   7.020477  \n",
       "\n",
       "[40734 rows x 7 columns]"
      ]
     },
     "execution_count": 3,
     "metadata": {},
     "output_type": "execute_result"
    }
   ],
   "source": [
    "data"
   ]
  },
  {
   "cell_type": "code",
   "execution_count": 4,
   "metadata": {},
   "outputs": [
    {
     "data": {
      "text/plain": [
       "0        5002.0435\n",
       "1        4560.3030\n",
       "2        5204.6360\n",
       "3        5153.2470\n",
       "4        5726.0100\n",
       "           ...    \n",
       "40729    6355.3740\n",
       "40730    4874.3160\n",
       "40731    4434.1780\n",
       "40732    3817.4430\n",
       "40733    4431.2170\n",
       "Name: Temperature [K], Length: 40734, dtype: float64"
      ]
     },
     "execution_count": 4,
     "metadata": {},
     "output_type": "execute_result"
    }
   ],
   "source": [
    "data['Temperature [K]']"
   ]
  },
  {
   "cell_type": "code",
   "execution_count": 5,
   "metadata": {
    "jupyter": {
     "source_hidden": true
    }
   },
   "outputs": [],
   "source": [
    "temperature = data['Temperature [K]']"
   ]
  },
  {
   "cell_type": "code",
   "execution_count": 6,
   "metadata": {},
   "outputs": [
    {
     "data": {
      "text/plain": [
       "0        5002.0435\n",
       "1        4560.3030\n",
       "2        5204.6360\n",
       "3        5153.2470\n",
       "4        5726.0100\n",
       "           ...    \n",
       "40729    6355.3740\n",
       "40730    4874.3160\n",
       "40731    4434.1780\n",
       "40732    3817.4430\n",
       "40733    4431.2170\n",
       "Name: Temperature [K], Length: 40734, dtype: float64"
      ]
     },
     "execution_count": 6,
     "metadata": {},
     "output_type": "execute_result"
    }
   ],
   "source": [
    "temperature"
   ]
  },
  {
   "cell_type": "code",
   "execution_count": 7,
   "metadata": {},
   "outputs": [],
   "source": [
    "mass = data['Mass [Solar Mass]']"
   ]
  },
  {
   "cell_type": "code",
   "execution_count": 8,
   "metadata": {
    "scrolled": true
   },
   "outputs": [
    {
     "data": {
      "text/plain": [
       "0        0.811199\n",
       "1        0.739232\n",
       "2        0.825646\n",
       "3        0.828676\n",
       "4        0.960048\n",
       "           ...   \n",
       "40729    1.365681\n",
       "40730    0.799427\n",
       "40731    3.302371\n",
       "40732    0.551528\n",
       "40733    0.711171\n",
       "Name: Mass [Solar Mass], Length: 40734, dtype: float64"
      ]
     },
     "execution_count": 8,
     "metadata": {},
     "output_type": "execute_result"
    }
   ],
   "source": [
    "mass"
   ]
  },
  {
   "cell_type": "code",
   "execution_count": 9,
   "metadata": {},
   "outputs": [],
   "source": [
    "radius = data['Radius [Solar Radius]']"
   ]
  },
  {
   "cell_type": "code",
   "execution_count": 10,
   "metadata": {},
   "outputs": [
    {
     "data": {
      "text/plain": [
       "0         0.776116\n",
       "1         0.763127\n",
       "2         0.881947\n",
       "3         0.826463\n",
       "4         1.143422\n",
       "           ...    \n",
       "40729     1.807146\n",
       "40730     0.861230\n",
       "40731    20.616924\n",
       "40732     0.535636\n",
       "40733     0.678837\n",
       "Name: Radius [Solar Radius], Length: 40734, dtype: float64"
      ]
     },
     "execution_count": 10,
     "metadata": {},
     "output_type": "execute_result"
    }
   ],
   "source": [
    "radius"
   ]
  },
  {
   "cell_type": "code",
   "execution_count": 11,
   "metadata": {},
   "outputs": [],
   "source": [
    "age = data['Age [Gyr]']"
   ]
  },
  {
   "cell_type": "code",
   "execution_count": 12,
   "metadata": {},
   "outputs": [
    {
     "data": {
      "text/plain": [
       "0         7.304041\n",
       "1        10.487599\n",
       "2        13.452476\n",
       "3         9.933178\n",
       "4        10.061203\n",
       "           ...    \n",
       "40729     2.754495\n",
       "40730    13.440605\n",
       "40731     0.292429\n",
       "40732    13.327753\n",
       "40733     7.020477\n",
       "Name: Age [Gyr], Length: 40734, dtype: float64"
      ]
     },
     "execution_count": 12,
     "metadata": {},
     "output_type": "execute_result"
    }
   ],
   "source": [
    "age"
   ]
  },
  {
   "cell_type": "code",
   "execution_count": 13,
   "metadata": {},
   "outputs": [],
   "source": [
    "import matplotlib.pyplot as plt\n",
    "\n"
   ]
  },
  {
   "cell_type": "code",
   "execution_count": 14,
   "metadata": {
    "scrolled": true
   },
   "outputs": [
    {
     "data": {
      "text/plain": [
       "<matplotlib.lines.Line2D at 0x257d3f7f0b0>"
      ]
     },
     "execution_count": 14,
     "metadata": {},
     "output_type": "execute_result"
    },
    {
     "data": {
      "image/png": "[encoded data removed]",
      "text/plain": [
       "<Figure size 640x480 with 1 Axes>"
      ]
     },
     "metadata": {},
     "output_type": "display_data"
    }
   ],
   "source": [
    "plt.hist(temperature)\n",
    "plt.xlabel('Temperature [K]')\n",
    "plt.ylabel('Number of Stars')\n",
    "plt.axvline(5800, color='black')"
   ]
  },
  {
   "cell_type": "markdown",
   "metadata": {},
   "source": [
    "**Copy and paste the table with the column explanations you started in the last notebook**\n",
    "\n",
    "Roughly, how does the Sun's temperature compare to the population of stars? It is much hotter, much colder, similar, etc?\n",
    "\n",
    "Answer: The Sun has a pretty average temperature, compared to the stars"
   ]
  },
  {
   "cell_type": "code",
   "execution_count": 15,
   "metadata": {
    "scrolled": true
   },
   "outputs": [
    {
     "data": {
      "text/plain": [
       "<matplotlib.lines.Line2D at 0x257d22c4b00>"
      ]
     },
     "execution_count": 15,
     "metadata": {},
     "output_type": "execute_result"
    },
    {
     "data": {
      "image/png": "[encoded data removed]",
      "text/plain": [
       "<Figure size 640x480 with 1 Axes>"
      ]
     },
     "metadata": {},
     "output_type": "display_data"
    }
   ],
   "source": [
    "plt.hist(age)\n",
    "plt.xlabel('Age [Gyr]')\n",
    "plt.ylabel('Number of Stars')\n",
    "plt.axvline(4.6, color='black')"
   ]
  },
  {
   "cell_type": "markdown",
   "metadata": {},
   "source": [
    "Roughly, how does the Sun's age compare to the population of stars? It is much younger, much older, similar, etc?\n",
    "\n",
    "Answer: The Sun has a pretty average age, compared to the stars"
   ]
  },
  {
   "cell_type": "code",
   "execution_count": 16,
   "metadata": {
    "scrolled": true
   },
   "outputs": [
    {
     "data": {
      "text/plain": [
       "<matplotlib.lines.Line2D at 0x257d3fa7170>"
      ]
     },
     "execution_count": 16,
     "metadata": {},
     "output_type": "execute_result"
    },
    {
     "data": {
      "image/png": "[encoded data removed]",
      "text/plain": [
       "<Figure size 640x480 with 1 Axes>"
      ]
     },
     "metadata": {},
     "output_type": "display_data"
    }
   ],
   "source": [
    "plt.hist(mass)\n",
    "plt.xlabel('Mass [Mo]')\n",
    "plt.ylabel('Number of Stars')\n",
    "plt.axvline(1, color='black')"
   ]
  },
  {
   "cell_type": "markdown",
   "metadata": {},
   "source": [
    "Roughly, how does the Sun's mass compare to the population of stars? It is much less massive, much more massive, similar, etc?\n",
    "\n",
    "Answer: The Sun has a pretty average mass, compared to the stars"
   ]
  },
  {
   "cell_type": "code",
   "execution_count": 17,
   "metadata": {
    "scrolled": true
   },
   "outputs": [
    {
     "data": {
      "text/plain": [
       "<matplotlib.lines.Line2D at 0x257d5930710>"
      ]
     },
     "execution_count": 17,
     "metadata": {},
     "output_type": "execute_result"
    },
    {
     "data": {
      "image/png": "[encoded data removed]",
      "text/plain": [
       "<Figure size 640x480 with 1 Axes>"
      ]
     },
     "metadata": {},
     "output_type": "display_data"
    }
   ],
   "source": [
    "plt.hist(radius)\n",
    "plt.xlabel('Radius [Ro]')\n",
    "plt.ylabel('Number of Stars')\n",
    "plt.axvline(1, color='black')"
   ]
  },
  {
   "cell_type": "markdown",
   "metadata": {},
   "source": [
    "Roughly, how does the Sun's radius compare to the population of stars? It is much smaller, much larger, similar, etc?\n",
    "\n",
    "Answer: The Sun has a slightly smaller radius, compared to the stars\n",
    "\n",
    "Looking at your 4 histograms, what conclusion can we make about the Sun? Is it pretty normal or pretty special?\n",
    "\n",
    "Answer: The Sun is pretty normal!"
   ]
  },
  {
   "cell_type": "markdown",
   "metadata": {},
   "source": [
    "## Density of Stars\n",
    "\n",
    "Let's now explore the densities of stars. If you recall from STP, density is the amount of stuff something has (the mass) in a given space (the volume). **Looking at the data table, what variables might be helpful for us to calculate the density of stars?** \n",
    "\n",
    "**Answer:**"
   ]
  },
  {
   "cell_type": "code",
   "execution_count": 21,
   "metadata": {},
   "outputs": [],
   "source": [
    "mass = data['Mass [Solar Mass]']"
   ]
  },
  {
   "cell_type": "code",
   "execution_count": 22,
   "metadata": {},
   "outputs": [],
   "source": [
    "radius = data['Radius [Solar Radius]']"
   ]
  },
  {
   "cell_type": "markdown",
   "metadata": {},
   "source": [
    "The equation for density is $\\ \\rm D = \\frac{Mass}{Volume}$. Stars are spheres whose volumes can be calculated using the equation $\\ \\rm V = \\frac{4}{3}\\pi r^3$, where r is the radius and $\\pi$ is 3.14"
   ]
  },
  {
   "cell_type": "code",
   "execution_count": 23,
   "metadata": {},
   "outputs": [],
   "source": [
    "# create variables for the mass and radius\n",
    "import numpy as np\n"
   ]
  },
  {
   "cell_type": "code",
   "execution_count": 25,
   "metadata": {},
   "outputs": [],
   "source": [
    "pi = 3.14\n",
    "\n",
    "def volume_function (radius_star):\n",
    "    total_volume = 4/3 * pi * radius_star **3\n",
    "    return (total_volume)"
   ]
  },
  {
   "cell_type": "code",
   "execution_count": 29,
   "metadata": {},
   "outputs": [
    {
     "name": "stdout",
     "output_type": "stream",
     "text": [
      "0            1.957262\n",
      "1            1.860622\n",
      "2            2.872076\n",
      "3            2.363408\n",
      "4            6.258758\n",
      "             ...     \n",
      "40729       24.708582\n",
      "40730        2.674396\n",
      "40731    36689.348051\n",
      "40732        0.643395\n",
      "40733        1.309682\n",
      "Name: Radius [Solar Radius], Length: 40734, dtype: float64\n"
     ]
    }
   ],
   "source": [
    "# calculate the volume of the stars below. try doing so with a function!\n",
    "# the resulting units will be (Ro)^3\n",
    "volume = volume_function(radius) \n",
    "print(volume)"
   ]
  },
  {
   "cell_type": "code",
   "execution_count": null,
   "metadata": {},
   "outputs": [],
   "source": [
    "# let's make a mass vs volume plot, just like you did for STP!\n",
    "\n",
    "# import our graphing package\n",
    "\n",
    "\n",
    "#the below is optional but makes the font a size I can read more easily\n",
    "import matplotlib\n",
    "matplotlib.rc('font', **{'family':'sans-serif', 'size':16}) "
   ]
  },
  {
   "cell_type": "code",
   "execution_count": null,
   "metadata": {},
   "outputs": [],
   "source": [
    "# create a scatter plot where mass is on the y axis and volume is on the x axis\n",
    "# don't forget to label both axes\n"
   ]
  },
  {
   "cell_type": "markdown",
   "metadata": {},
   "source": [
    "**What range of masses does your graph show?**\n",
    "\n",
    "**Answer:**\n",
    "\n",
    "**What range of volumes does your graph show?**\n",
    "\n",
    "**Answer:** "
   ]
  },
  {
   "cell_type": "code",
   "execution_count": null,
   "metadata": {},
   "outputs": [],
   "source": [
    "# the scatter plot has some mess in it! let's get rid of it by zooming in\n",
    "# zoom in on a volume range of (0, 15)\n",
    "\n"
   ]
  },
  {
   "cell_type": "markdown",
   "metadata": {},
   "source": [
    "**According to your graph set up...**\n",
    "\n",
    "**What is the independent variable**\n",
    "\n",
    "**Answer:?**\n",
    "\n",
    "\n",
    "**What is the dependent variable?**\n",
    "\n",
    "**Answer:?**\n",
    "\n",
    "\n",
    "**What could a control variable be?**\n",
    "\n",
    "**Answer:?**\n"
   ]
  },
  {
   "cell_type": "markdown",
   "metadata": {},
   "source": [
    "**Describe any pattern/trend (or lack of one) you see**\n",
    "\n",
    "**Answer:** "
   ]
  },
  {
   "cell_type": "markdown",
   "metadata": {},
   "source": [
    "## Check in \n",
    "\n",
    "**Could a directly proportional model describe the data? Add notes from our class discussion below**\n",
    "\n",
    "**Notes:** "
   ]
  },
  {
   "cell_type": "code",
   "execution_count": null,
   "metadata": {},
   "outputs": [],
   "source": [
    "# add the sun to your zoomed in plot with a red star marker\n",
    "# remember the Sun's mass is 1 Mo and its radius is 1 Ro\n",
    "# label it \"The Sun\"\n",
    "\n"
   ]
  },
  {
   "cell_type": "code",
   "execution_count": null,
   "metadata": {},
   "outputs": [],
   "source": [
    "# let's change our units to match the units in your mass vs volume STP lab\n",
    "# create two functions to convert the mass and the volume\n",
    "\n",
    "# 1) convert mass to grams (g) with a function\n",
    "# you need to multiply the masses you have by 1.989^30 and by 1,000\n",
    "\n",
    "# 2) convert volume to militers (mL) with a function\n",
    "# you need to multiply the volume by (695700)^3 and 100,000^3\n"
   ]
  },
  {
   "cell_type": "code",
   "execution_count": null,
   "metadata": {},
   "outputs": [],
   "source": [
    "# make a new scatter plot showing mass vs volume for gaia and for the sun with our new units (mL and g)\n",
    "# (it will be the same as your last plot but the units will change)\n",
    "# you will need to change the xlim to be in your new units. make sure the scale matches your first one\n",
    "\n"
   ]
  },
  {
   "cell_type": "markdown",
   "metadata": {},
   "source": [
    "**What range of volumes does your graph show?**\n",
    "\n",
    "**Answer:** \n",
    "\n",
    "**What range of masses does your graph show?**\n",
    "\n",
    "**Answer:** "
   ]
  },
  {
   "cell_type": "markdown",
   "metadata": {},
   "source": [
    "## Sun Density\n",
    "\n",
    "Since a directly proportional model won't describe the data well, let's calculate the density of the Sun. Remember density is $\\ \\rm D = \\frac{Mass}{Volume}$  . Make sure your density is g/mL"
   ]
  },
  {
   "cell_type": "code",
   "execution_count": null,
   "metadata": {},
   "outputs": [],
   "source": [
    "# calculate the density of the Sun below in g/mL\n",
    "\n"
   ]
  },
  {
   "cell_type": "markdown",
   "metadata": {},
   "source": [
    "## Deliverable\n",
    "\n",
    "Make a line plot showing the density of the Sun compared to the density of the 3 liquids you measured for STP. (So you should have a graph with 3 lines on it.) Customize and label the lines so that your graph is clear. Make sure we can easily read the fonts. Be ready to explain your plot and the choices you made to us. "
   ]
  },
  {
   "cell_type": "code",
   "execution_count": null,
   "metadata": {
    "scrolled": true
   },
   "outputs": [],
   "source": [
    "# create your line plot below\n",
    "\n",
    "# fill in the volumes you measured for STP in the list below\n",
    "# this will be your array for the x axis for each liquid and for the sun\n",
    "volumes = [] #mL\n",
    "\n",
    "# the below function will calculate the masses based on the density you put in, you don't need to edit it\n",
    "def masses(density): #g/mL\n",
    "    mass = [a * density for a in volumes]\n",
    "    return mass\n",
    "\n",
    "# you will need to use this function for each object below\n",
    "water_mass = \n",
    "oil_mass =\n",
    "karo_mass =\n",
    "sun_mass =\n",
    "\n",
    "#plot a line for the four substances above on the same graph. change the colors for each line and label them\n",
    "#remember a line for a directly proportional model is A * x. What did A and x represent in this lab?"
   ]
  },
  {
   "cell_type": "markdown",
   "metadata": {},
   "source": [
    "**Which liquid from your STP lab has the closest density to the Sun?**\n",
    "\n",
    "**Answer:**"
   ]
  }
 ],
 "metadata": {
  "kernelspec": {
   "display_name": "Python [conda env:base] *",
   "language": "python",
   "name": "conda-base-py"
  },
  "language_info": {
   "codemirror_mode": {
    "name": "ipython",
    "version": 3
   },
   "file_extension": ".py",
   "mimetype": "text/x-python",
   "name": "python",
   "nbconvert_exporter": "python",
   "pygments_lexer": "ipython3",
   "version": "3.12.7"
  }
 },
 "nbformat": 4,
 "nbformat_minor": 4
}
